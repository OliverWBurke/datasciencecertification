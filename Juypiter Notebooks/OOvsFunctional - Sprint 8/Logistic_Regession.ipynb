{
 "cells": [
  {
   "cell_type": "markdown",
   "metadata": {
    "colab_type": "text",
    "id": "FQhu31QFllAZ"
   },
   "source": [
    "# Logistic Regression and Gradient Descent"
   ]
  },
  {
   "cell_type": "markdown",
   "metadata": {
    "colab_type": "text",
    "id": "UZ6b0FzGKITn"
   },
   "source": [
    "Aims:\n",
    "\n",
    "* Implement batch gradient descent for a logistic regression model\n",
    "* Review of cost function for classification problems\n",
    "* Review matrix dot products with `numpy`\n",
    "* Further practice with pandas and pyplot\n",
    "* Implementing a class in Python\n",
    "\n",
    "You will need to fill in parts that say \n",
    "    # INSERT CODE HERE\n",
    "    \n",
    "where possible the exercises will indicate the expected output for you to check your work."
   ]
  },
  {
   "cell_type": "markdown",
   "metadata": {
    "colab_type": "text",
    "id": "xV-fKbeSgc5j"
   },
   "source": [
    "## Part A: Review of Logistic Regression"
   ]
  },
  {
   "cell_type": "code",
   "execution_count": 1,
   "metadata": {
    "colab": {},
    "colab_type": "code",
    "id": "h-w2Tx2wliJg"
   },
   "outputs": [],
   "source": [
    "import numpy as np\n",
    "import pandas as pd\n",
    "from sklearn.datasets import make_classification\n",
    "import matplotlib.pyplot as plt\n",
    "import math\n",
    "%matplotlib inline"
   ]
  },
  {
   "cell_type": "markdown",
   "metadata": {
    "colab_type": "text",
    "id": "29JmiAxbWpVi"
   },
   "source": [
    "## 1. Data loading"
   ]
  },
  {
   "cell_type": "code",
   "execution_count": 2,
   "metadata": {
    "colab": {},
    "colab_type": "code",
    "id": "B0ST6vQzl1CZ"
   },
   "outputs": [],
   "source": [
    "def get_data():\n",
    "    '''Load classification data for the exercise.\n",
    "    \n",
    "    Returns:\n",
    "    data : pandas DataFrame\n",
    "    '''\n",
    "    X, y = make_classification(n_samples=1000, n_features=10, n_informative=8, n_redundant=2, n_classes=2, random_state=42, n_clusters_per_class=1)\n",
    "    \n",
    "    df = pd.DataFrame(X, columns=['feature_'+str(i) for i in range(10)])\n",
    "    df['target'] = y\n",
    "    return df"
   ]
  },
  {
   "cell_type": "code",
   "execution_count": 3,
   "metadata": {
    "colab": {},
    "colab_type": "code",
    "id": "0rGKDflLl6h3"
   },
   "outputs": [],
   "source": [
    "# Get the data. df is a pandas dataframe. \n",
    "df = get_data()\n",
    "X = df[df.columns.difference(['target'])]\n",
    "y = df.target"
   ]
  },
  {
   "cell_type": "code",
   "execution_count": 4,
   "metadata": {
    "colab": {
     "base_uri": "https://localhost:8080/",
     "height": 34
    },
    "colab_type": "code",
    "id": "xPfKL4kogc5t",
    "outputId": "e5360019-2002-4abf-d7e9-97cc7966b40c"
   },
   "outputs": [
    {
     "data": {
      "text/plain": [
       "1000"
      ]
     },
     "execution_count": 4,
     "metadata": {},
     "output_type": "execute_result"
    }
   ],
   "source": [
    "# (rows, columns)\n",
    "X.shape[0]"
   ]
  },
  {
   "cell_type": "markdown",
   "metadata": {
    "colab_type": "text",
    "id": "MY1LobavKIT0"
   },
   "source": [
    "`df` is a DataFrame with 500 rows and 11 columns, including the target column."
   ]
  },
  {
   "cell_type": "code",
   "execution_count": 5,
   "metadata": {
    "colab": {
     "base_uri": "https://localhost:8080/",
     "height": 67
    },
    "colab_type": "code",
    "id": "yXEfb59mKIT1",
    "outputId": "c28d696d-a1f5-4c16-867f-6be23b42960c"
   },
   "outputs": [
    {
     "data": {
      "text/plain": [
       "1    502\n",
       "0    498\n",
       "Name: target, dtype: int64"
      ]
     },
     "execution_count": 5,
     "metadata": {},
     "output_type": "execute_result"
    }
   ],
   "source": [
    "# Examine the target column\n",
    "df.target.value_counts()"
   ]
  },
  {
   "cell_type": "markdown",
   "metadata": {
    "colab_type": "text",
    "id": "MA20ZOAYgc53"
   },
   "source": [
    "In this binary classification dataset we have 502 positive examples and 498 negative examples.\n",
    "\n",
    "**Question:** Is this a balanced dataset? What precautions do we have to take if a classification dataset is not balanced?"
   ]
  },
  {
   "cell_type": "markdown",
   "metadata": {
    "colab_type": "text",
    "id": "dGNQTwlQgc53"
   },
   "source": [
    "Yes, there are roughly even numbers of positive and negative examples"
   ]
  },
  {
   "cell_type": "markdown",
   "metadata": {
    "colab_type": "text",
    "id": "afTmi0cJKIT5"
   },
   "source": [
    "## 2. Data exploration"
   ]
  },
  {
   "cell_type": "markdown",
   "metadata": {
    "colab_type": "text",
    "id": "MMUkdDJeKIT5"
   },
   "source": [
    "Let's begin by taking a look at the first few rows of data."
   ]
  },
  {
   "cell_type": "code",
   "execution_count": 6,
   "metadata": {
    "colab": {},
    "colab_type": "code",
    "id": "Uk9ds9KTKITy"
   },
   "outputs": [
    {
     "data": {
      "text/html": [
       "<div>\n",
       "<style scoped>\n",
       "    .dataframe tbody tr th:only-of-type {\n",
       "        vertical-align: middle;\n",
       "    }\n",
       "\n",
       "    .dataframe tbody tr th {\n",
       "        vertical-align: top;\n",
       "    }\n",
       "\n",
       "    .dataframe thead th {\n",
       "        text-align: right;\n",
       "    }\n",
       "</style>\n",
       "<table border=\"1\" class=\"dataframe\">\n",
       "  <thead>\n",
       "    <tr style=\"text-align: right;\">\n",
       "      <th></th>\n",
       "      <th>feature_0</th>\n",
       "      <th>feature_1</th>\n",
       "      <th>feature_2</th>\n",
       "      <th>feature_3</th>\n",
       "      <th>feature_4</th>\n",
       "      <th>feature_5</th>\n",
       "      <th>feature_6</th>\n",
       "      <th>feature_7</th>\n",
       "      <th>feature_8</th>\n",
       "      <th>feature_9</th>\n",
       "      <th>target</th>\n",
       "    </tr>\n",
       "  </thead>\n",
       "  <tbody>\n",
       "    <tr>\n",
       "      <th>0</th>\n",
       "      <td>-3.358483</td>\n",
       "      <td>3.159918</td>\n",
       "      <td>0.827163</td>\n",
       "      <td>0.069638</td>\n",
       "      <td>-6.715639</td>\n",
       "      <td>-2.708559</td>\n",
       "      <td>0.183206</td>\n",
       "      <td>1.113502</td>\n",
       "      <td>1.730759</td>\n",
       "      <td>1.228394</td>\n",
       "      <td>1</td>\n",
       "    </tr>\n",
       "    <tr>\n",
       "      <th>1</th>\n",
       "      <td>2.071819</td>\n",
       "      <td>-4.055419</td>\n",
       "      <td>-2.615940</td>\n",
       "      <td>-2.599432</td>\n",
       "      <td>3.053752</td>\n",
       "      <td>0.366795</td>\n",
       "      <td>-0.392171</td>\n",
       "      <td>-1.191720</td>\n",
       "      <td>-1.220516</td>\n",
       "      <td>1.899925</td>\n",
       "      <td>0</td>\n",
       "    </tr>\n",
       "    <tr>\n",
       "      <th>2</th>\n",
       "      <td>-0.633460</td>\n",
       "      <td>0.712482</td>\n",
       "      <td>2.024390</td>\n",
       "      <td>-0.432639</td>\n",
       "      <td>-1.307929</td>\n",
       "      <td>0.419320</td>\n",
       "      <td>-1.469510</td>\n",
       "      <td>-0.719051</td>\n",
       "      <td>1.155005</td>\n",
       "      <td>2.018026</td>\n",
       "      <td>0</td>\n",
       "    </tr>\n",
       "    <tr>\n",
       "      <th>3</th>\n",
       "      <td>-0.464478</td>\n",
       "      <td>0.892442</td>\n",
       "      <td>2.521010</td>\n",
       "      <td>2.766580</td>\n",
       "      <td>-1.933734</td>\n",
       "      <td>-1.418018</td>\n",
       "      <td>1.391760</td>\n",
       "      <td>-2.430279</td>\n",
       "      <td>1.308295</td>\n",
       "      <td>-0.270896</td>\n",
       "      <td>1</td>\n",
       "    </tr>\n",
       "    <tr>\n",
       "      <th>4</th>\n",
       "      <td>1.042426</td>\n",
       "      <td>-1.192605</td>\n",
       "      <td>-2.071386</td>\n",
       "      <td>-0.131231</td>\n",
       "      <td>0.545377</td>\n",
       "      <td>0.379060</td>\n",
       "      <td>-0.062978</td>\n",
       "      <td>-1.325591</td>\n",
       "      <td>2.037936</td>\n",
       "      <td>0.115414</td>\n",
       "      <td>0</td>\n",
       "    </tr>\n",
       "  </tbody>\n",
       "</table>\n",
       "</div>"
      ],
      "text/plain": [
       "   feature_0  feature_1  feature_2  feature_3  feature_4  feature_5  \\\n",
       "0  -3.358483   3.159918   0.827163   0.069638  -6.715639  -2.708559   \n",
       "1   2.071819  -4.055419  -2.615940  -2.599432   3.053752   0.366795   \n",
       "2  -0.633460   0.712482   2.024390  -0.432639  -1.307929   0.419320   \n",
       "3  -0.464478   0.892442   2.521010   2.766580  -1.933734  -1.418018   \n",
       "4   1.042426  -1.192605  -2.071386  -0.131231   0.545377   0.379060   \n",
       "\n",
       "   feature_6  feature_7  feature_8  feature_9  target  \n",
       "0   0.183206   1.113502   1.730759   1.228394       1  \n",
       "1  -0.392171  -1.191720  -1.220516   1.899925       0  \n",
       "2  -1.469510  -0.719051   1.155005   2.018026       0  \n",
       "3   1.391760  -2.430279   1.308295  -0.270896       1  \n",
       "4  -0.062978  -1.325591   2.037936   0.115414       0  "
      ]
     },
     "execution_count": 6,
     "metadata": {},
     "output_type": "execute_result"
    }
   ],
   "source": [
    "df.head()"
   ]
  },
  {
   "cell_type": "markdown",
   "metadata": {
    "colab_type": "text",
    "id": "DT3oIOAKKIUB"
   },
   "source": [
    "As you will have previously seen, it is a good idea to make some simple plots of the various input features (where you are able!) to get a feel for the dataset. \n",
    "\n",
    "**Hints:**\n",
    "* Making more compact visualisations with subplots\n",
    "https://matplotlib.org/api/_as_gen/matplotlib.pyplot.subplots.html\n",
    "\n",
    "* The seaborn package is also an excellent visualisation tool. Here are some examples of useful visuals for categorical data \n",
    "https://seaborn.pydata.org/tutorial/categorical.html#categorical-tutorial"
   ]
  },
  {
   "cell_type": "code",
   "execution_count": 7,
   "metadata": {
    "colab": {},
    "colab_type": "code",
    "id": "C0gvuWAu2Ek5",
    "scrolled": false
   },
   "outputs": [
    {
     "name": "stdout",
     "output_type": "stream",
     "text": [
      "['feature_0', 'feature_1', 'feature_2', 'feature_3', 'feature_4', 'feature_5', 'feature_6', 'feature_7', 'feature_8', 'feature_9']\n"
     ]
    },
    {
     "data": {
      "image/png": "[encoded data removed]",
      "text/plain": [
       "<Figure size 432x288 with 1 Axes>"
      ]
     },
     "metadata": {},
     "output_type": "display_data"
    },
    {
     "data": {
      "image/png": "[encoded data removed]",
      "text/plain": [
       "<Figure size 432x288 with 1 Axes>"
      ]
     },
     "metadata": {},
     "output_type": "display_data"
    },
    {
     "data": {
      "image/png": "[encoded data removed]",
      "text/plain": [
       "<Figure size 432x288 with 1 Axes>"
      ]
     },
     "metadata": {},
     "output_type": "display_data"
    },
    {
     "data": {
      "image/png": "[encoded data removed]",
      "text/plain": [
       "<Figure size 432x288 with 1 Axes>"
      ]
     },
     "metadata": {},
     "output_type": "display_data"
    },
    {
     "data": {
      "image/png": "[encoded data removed]",
      "text/plain": [
       "<Figure size 432x288 with 1 Axes>"
      ]
     },
     "metadata": {},
     "output_type": "display_data"
    },
    {
     "data": {
      "image/png": "[encoded data removed]",
      "text/plain": [
       "<Figure size 432x288 with 1 Axes>"
      ]
     },
     "metadata": {},
     "output_type": "display_data"
    },
    {
     "data": {
      "image/png": "[encoded data removed]",
      "text/plain": [
       "<Figure size 432x288 with 1 Axes>"
      ]
     },
     "metadata": {},
     "output_type": "display_data"
    },
    {
     "data": {
      "image/png": "[encoded data removed]",
      "text/plain": [
       "<Figure size 432x288 with 1 Axes>"
      ]
     },
     "metadata": {},
     "output_type": "display_data"
    },
    {
     "data": {
      "image/png": "[encoded data removed]",
      "text/plain": [
       "<Figure size 432x288 with 1 Axes>"
      ]
     },
     "metadata": {},
     "output_type": "display_data"
    },
    {
     "data": {
      "image/png": "[encoded data removed]",
      "text/plain": [
       "<Figure size 432x288 with 1 Axes>"
      ]
     },
     "metadata": {},
     "output_type": "display_data"
    },
    {
     "data": {
      "image/png": "[encoded data removed]",
      "text/plain": [
       "<Figure size 432x288 with 1 Axes>"
      ]
     },
     "metadata": {},
     "output_type": "display_data"
    },
    {
     "data": {
      "image/png": "[encoded data removed]",
      "text/plain": [
       "<Figure size 432x288 with 1 Axes>"
      ]
     },
     "metadata": {},
     "output_type": "display_data"
    },
    {
     "data": {
      "image/png": "[encoded data removed]",
      "text/plain": [
       "<Figure size 432x288 with 1 Axes>"
      ]
     },
     "metadata": {},
     "output_type": "display_data"
    },
    {
     "data": {
      "image/png": "[encoded data removed]",
      "text/plain": [
       "<Figure size 432x288 with 1 Axes>"
      ]
     },
     "metadata": {},
     "output_type": "display_data"
    },
    {
     "data": {
      "image/png": "[encoded data removed]",
      "text/plain": [
       "<Figure size 432x288 with 1 Axes>"
      ]
     },
     "metadata": {},
     "output_type": "display_data"
    },
    {
     "data": {
      "image/png": "[encoded data removed]",
      "text/plain": [
       "<Figure size 432x288 with 1 Axes>"
      ]
     },
     "metadata": {},
     "output_type": "display_data"
    },
    {
     "data": {
      "image/png": "[encoded data removed]",
      "text/plain": [
       "<Figure size 432x288 with 1 Axes>"
      ]
     },
     "metadata": {},
     "output_type": "display_data"
    },
    {
     "data": {
      "image/png": "[encoded data removed]",
      "text/plain": [
       "<Figure size 432x288 with 1 Axes>"
      ]
     },
     "metadata": {},
     "output_type": "display_data"
    },
    {
     "data": {
      "image/png": "[encoded data removed]",
      "text/plain": [
       "<Figure size 432x288 with 1 Axes>"
      ]
     },
     "metadata": {},
     "output_type": "display_data"
    },
    {
     "data": {
      "image/png": "[encoded data removed]",
      "text/plain": [
       "<Figure size 432x288 with 1 Axes>"
      ]
     },
     "metadata": {},
     "output_type": "display_data"
    },
    {
     "data": {
      "image/png": "[encoded data removed]",
      "text/plain": [
       "<Figure size 432x288 with 1 Axes>"
      ]
     },
     "metadata": {},
     "output_type": "display_data"
    },
    {
     "data": {
      "image/png": "[encoded data removed]",
      "text/plain": [
       "<Figure size 432x288 with 1 Axes>"
      ]
     },
     "metadata": {},
     "output_type": "display_data"
    },
    {
     "data": {
      "image/png": "[encoded data removed]",
      "text/plain": [
       "<Figure size 432x288 with 1 Axes>"
      ]
     },
     "metadata": {},
     "output_type": "display_data"
    },
    {
     "data": {
      "image/png": "[encoded data removed]",
      "text/plain": [
       "<Figure size 432x288 with 1 Axes>"
      ]
     },
     "metadata": {},
     "output_type": "display_data"
    },
    {
     "data": {
      "image/png": "[encoded data removed]",
      "text/plain": [
       "<Figure size 432x288 with 1 Axes>"
      ]
     },
     "metadata": {},
     "output_type": "display_data"
    },
    {
     "data": {
      "image/png": "[encoded data removed]",
      "text/plain": [
       "<Figure size 432x288 with 1 Axes>"
      ]
     },
     "metadata": {},
     "output_type": "display_data"
    },
    {
     "data": {
      "image/png": "[encoded data removed]",
      "text/plain": [
       "<Figure size 432x288 with 1 Axes>"
      ]
     },
     "metadata": {},
     "output_type": "display_data"
    },
    {
     "data": {
      "image/png": "[encoded data removed]",
      "text/plain": [
       "<Figure size 432x288 with 1 Axes>"
      ]
     },
     "metadata": {},
     "output_type": "display_data"
    },
    {
     "data": {
      "image/png": "[encoded data removed]",
      "text/plain": [
       "<Figure size 432x288 with 1 Axes>"
      ]
     },
     "metadata": {},
     "output_type": "display_data"
    },
    {
     "data": {
      "image/png": "[encoded data removed]",
      "text/plain": [
       "<Figure size 432x288 with 1 Axes>"
      ]
     },
     "metadata": {},
     "output_type": "display_data"
    }
   ],
   "source": [
    "\n",
    "\n",
    "print(list(X))\n",
    "\n",
    "for i in list(X):\n",
    "    plt.hist(X[i],bins = 10)\n",
    "    plt.title(i)\n",
    "    plt.show()\n",
    "    plt.boxplot(X[i])\n",
    "    plt.title(i)\n",
    "    plt.show()\n",
    "    plt.scatter(X[i], y)\n",
    "    plt.title(i)\n",
    "    plt.show()"
   ]
  },
  {
   "cell_type": "markdown",
   "metadata": {
    "colab_type": "text",
    "id": "EWGZ3L1hqRgj"
   },
   "source": [
    "## 3. Defining the model and cost function"
   ]
  },
  {
   "cell_type": "markdown",
   "metadata": {
    "colab_type": "text",
    "id": "83dbk3enoUQE"
   },
   "source": [
    "### Logistic Regression\n",
    "\n",
    "We will model the data using logistic regression.\n",
    "The predictions $\\hat{y}^i$ are given by the logistic model\n",
    "\n",
    "$\\hat{y}^i=\\sigma(\\sum_j w_j^{\\phantom{}}x^i_j)$,   $\\quad\\quad\\quad(1)$\n",
    "\n",
    "where\n",
    "\n",
    "$\\sigma(x)=1/(1+\\exp^{-x})$, $\\quad\\quad\\quad(2)$\n",
    "\n",
    "Notation explained:\n",
    "\n",
    "* The superscript $i$ denotes the $i$-th example (or row) in the dataset.\n",
    "* The subscript $j$ denotes the $j$-th feature (or column) in the dataset.\n",
    "* $w_j$ are the parameters of the model and indicate the dependence of $\\hat{y}$ on $x_j$.\n",
    "\n",
    "As a matrix dot product, we can write\n",
    "\n",
    "$\\hat{y}=\\sigma(X\\cdot\\mathbf{w})$,   $\\quad\\quad\\quad(2)$\n",
    "\n",
    "where $X$ is a matrix with shape `(n samples, n features)` and $\\mathbf{w}$ is the weights vector of length `n features`."
   ]
  },
  {
   "cell_type": "markdown",
   "metadata": {
    "colab_type": "text",
    "id": "avSDpnt3KIUK"
   },
   "source": [
    "Define a `predict(X,w)` method that calculates the logistic regression model for a given input of X and w.\n",
    "\n",
    "It is useful to define a separate sigmoid function using the numpy `exp` method. The advantage of using the numpy implementation instead of `math.exp` is that it can perform an element-wise operation on all elements of an n-dimensional array.\n",
    "https://docs.scipy.org/doc/numpy/reference/generated/numpy.exp.html"
   ]
  },
  {
   "cell_type": "code",
   "execution_count": 8,
   "metadata": {
    "colab": {},
    "colab_type": "code",
    "id": "YDtSFoAWgc6E"
   },
   "outputs": [],
   "source": [
    "def sigmoid(x):\n",
    "    return 1 / ( 1 + np.exp(-x) )"
   ]
  },
  {
   "cell_type": "code",
   "execution_count": 9,
   "metadata": {
    "colab": {
     "base_uri": "https://localhost:8080/",
     "height": 34
    },
    "colab_type": "code",
    "id": "yn5d18Khgc6G",
    "outputId": "c8f132ef-561c-4326-94eb-dbda1d3d111c"
   },
   "outputs": [
    {
     "data": {
      "text/plain": [
       "array([0.37754067, 0.5       , 0.73105858])"
      ]
     },
     "execution_count": 9,
     "metadata": {},
     "output_type": "execute_result"
    }
   ],
   "source": [
    "# test function\n",
    "sigmoid(np.array([-0.5, 0, 1]))"
   ]
  },
  {
   "cell_type": "markdown",
   "metadata": {
    "colab_type": "text",
    "id": "wn2LcMpzgc6L"
   },
   "source": [
    "Expected output:\n",
    "\n",
    "    array([0.37754067, 0.5       , 0.73105858])"
   ]
  },
  {
   "cell_type": "code",
   "execution_count": 10,
   "metadata": {
    "colab": {},
    "colab_type": "code",
    "id": "0b4bQp2LprH1"
   },
   "outputs": [],
   "source": [
    "# Define a function that calculates the linear regression model. This will come in useful later.\n",
    "def predict(X, w):\n",
    "    '''The logistic regression model as defined in Equation (1).\n",
    "    It takes X and w as inputs and returns a 1d-array of predictions.\n",
    "\n",
    "    Parameters:\n",
    "    X : 2d-array, shape=(n_samples,n_features)\n",
    "    w : 1d-array, shape=(n_features,)\n",
    "\n",
    "    Returns:\n",
    "    ypred : 1d-array, shape=(n_samples,)\n",
    "    '''\n",
    "    # Check that the number of features in X is equal to the number features in the weights vector\n",
    "    assert X.shape[1] == len(w)\n",
    "\n",
    "    ypred = sigmoid(np.dot(X,w))\n",
    "    \n",
    "    # Check that the number of predictions made is equal to the number of samples in X\n",
    "    assert len(ypred) == X.shape[0]\n",
    "\n",
    "    return ypred"
   ]
  },
  {
   "cell_type": "code",
   "execution_count": 11,
   "metadata": {
    "colab": {
     "base_uri": "https://localhost:8080/",
     "height": 34
    },
    "colab_type": "code",
    "id": "gXVf9JQDKIUQ",
    "outputId": "6618163e-9213-46a5-89e6-3fcb4b599bb8"
   },
   "outputs": [
    {
     "data": {
      "text/plain": [
       "array([0.45603552, 0.32943956, 0.8237889 , 0.46605423, 0.66157655])"
      ]
     },
     "execution_count": 11,
     "metadata": {},
     "output_type": "execute_result"
    }
   ],
   "source": [
    "# Test your function with these example values of w\n",
    "w = np.linspace(0, 1, 10)\n",
    "predict(X, w)[:5]"
   ]
  },
  {
   "cell_type": "markdown",
   "metadata": {
    "colab_type": "text",
    "id": "k3m-v47_KIUT"
   },
   "source": [
    "Expected output:\n",
    "    \n",
    "    array([0.45603552, 0.32943956, 0.8237889 , 0.46605423, 0.66157655])"
   ]
  },
  {
   "cell_type": "markdown",
   "metadata": {
    "colab_type": "text",
    "id": "KxafyWDGKIUT"
   },
   "source": [
    "### Cost function\n",
    "In order to find the values of $\\mathbf{w}$ that best represent the data we need to define a cost function that quantifies how far away our estimate of $\\hat{y}$ differs from the true values $y$.\n",
    "\n",
    "For logistic regression the cost function to be minimised is the **cross-entropy** between the true $y^i$ and predicted $\\hat{y}^i$ values:\n",
    "\n",
    "$J(\\mathbf{w})=-\\frac{1}{m}\\sum^m_{i=1} \\left[y^i \\log \\hat{y}^i + (1-y^i) \\log(1-\\hat{y}^i)\\right]$. $\\quad\\quad\\quad(4)$\n",
    "\n",
    "* We sum the entropy over all samples from $i=1$ to $i=m$, where $m$ is the number of samples in the data.\n",
    "\n",
    "**Question:** Explain what each term of the loss function does.\n",
    "(a) how do mis-classified positive and negative examples increase the loss?\n",
    "(b) how do correctly classified positive and negative examples decrease the loss?"
   ]
  },
  {
   "cell_type": "markdown",
   "metadata": {
    "colab_type": "text",
    "id": "BBK15a6mgc6V"
   },
   "source": [
    "**ANSWER:**\n",
    "\n",
    "    INSERT ANSWER HERE"
   ]
  },
  {
   "cell_type": "markdown",
   "metadata": {
    "colab_type": "text",
    "id": "aIFeo2S8KIUV"
   },
   "source": [
    "Define a `cost_function(ypred, y)` method that calculates the cost function in Equation (4)."
   ]
  },
  {
   "cell_type": "code",
   "execution_count": 12,
   "metadata": {
    "colab": {},
    "colab_type": "code",
    "id": "4ibrCxAigc6X"
   },
   "outputs": [],
   "source": [
    "def safe_log(x):\n",
    "    return np.where(x==0, np.log(x+1e-10), np.log(x))"
   ]
  },
  {
   "cell_type": "code",
   "execution_count": 13,
   "metadata": {
    "colab": {},
    "colab_type": "code",
    "id": "63bxkO5pZmjk"
   },
   "outputs": [],
   "source": [
    "def cost_function(ypred, y):\n",
    "    '''The cost function J(w) as defined in Equation (4).\n",
    "\n",
    "    Parameters:\n",
    "    ypred : 1d-array, y values predicted by model \n",
    "    y : 1d-array, true y values\n",
    "\n",
    "    Returns:\n",
    "    float, J (the cost)\n",
    "    '''\n",
    "    # m is the number of samples\n",
    "    m = y.shape[0]\n",
    "    \n",
    "    # J is the cost\n",
    "    J = (-1 / m ) * sum(y * safe_log(ypred) + (1 - y) * safe_log(1 - ypred)) \n",
    "    \n",
    "    # Check that J is a scalar\n",
    "    #assert J.shape == ()\n",
    "\n",
    "    return J"
   ]
  },
  {
   "cell_type": "code",
   "execution_count": 14,
   "metadata": {
    "colab": {
     "base_uri": "https://localhost:8080/",
     "height": 67
    },
    "colab_type": "code",
    "id": "dOw489zrgc6b",
    "outputId": "9500966d-b56b-446f-c6dc-96f0ed9e16b8"
   },
   "outputs": [
    {
     "data": {
      "text/plain": [
       "1.404926243799119"
      ]
     },
     "execution_count": 14,
     "metadata": {},
     "output_type": "execute_result"
    }
   ],
   "source": [
    "ypred = predict(X, w)\n",
    "cost_function(ypred, y)"
   ]
  },
  {
   "cell_type": "markdown",
   "metadata": {
    "colab_type": "text",
    "id": "IuLOPCxNgc6d"
   },
   "source": [
    "Expected output:\n",
    "\n",
    "    1.404926243799119"
   ]
  },
  {
   "cell_type": "markdown",
   "metadata": {
    "colab_type": "text",
    "id": "WT3vGbZbqV4F"
   },
   "source": [
    "## 4. Batch Gradient Descent "
   ]
  },
  {
   "cell_type": "markdown",
   "metadata": {
    "colab_type": "text",
    "id": "UeODKjetp7m3"
   },
   "source": [
    "The goal of gradient descent is to find the values of $\\mathbf{w}$ that **minimise** the cost function $J$. \n",
    "\n",
    "The minimum is found by evaluating the _gradient_ $\\frac{dJ}{d\\mathbf{w}}$ at a given $\\mathbf{w}$ value, and taking a small step, the _learning rate_ $\\alpha$, against it.\n",
    "\n",
    "There are many different gradient descent algorithms. Here we will implement the **batch gradient descent algorithm**. In batch gradient descent, we will use all the examples in the sample at each iteration to update $w_0$ and $w_1$.\n",
    "\n",
    "The algorithm goes as follows:\n",
    "1. Initialise $\\mathbf{w}$ with random values.\n",
    "2. Calculate the gradients $\\frac{dJ}{dw_i}$ at this point.\n",
    "3. Update the value of each parameter $\\mathbf{w}$ using the update equations\n",
    "\n",
    "  $w_i := w_i - \\alpha \\frac{dJ}{dw_i}$, $\\quad\\quad\\quad(5)$\n",
    "\n",
    "4. Repeat steps 2 and 3 until the change in $\\mathbf{w}$ is small.\n"
   ]
  },
  {
   "cell_type": "markdown",
   "metadata": {
    "colab_type": "text",
    "id": "XYIuczBPqgeZ"
   },
   "source": [
    "Let's implement each step in turn.\n",
    "\n",
    "### Step 1: Initialise w with random values"
   ]
  },
  {
   "cell_type": "code",
   "execution_count": 15,
   "metadata": {
    "colab": {},
    "colab_type": "code",
    "id": "P3yNbgp4X6m8"
   },
   "outputs": [],
   "source": [
    "def initialise_w(n_features):\n",
    "    '''Initialise the weights vector w with random values.\n",
    "\n",
    "    Parameters:\n",
    "    n_features : int, number of features \n",
    "\n",
    "    Returns:\n",
    "    w : 1d-array\n",
    "    '''\n",
    "    # Set a seed so we get predictable values\n",
    "    np.random.seed(1)\n",
    "\n",
    "    # create a random numpy array of features of length n_features\n",
    "    w = np.random.rand(n_features,)\n",
    "    \n",
    "    # Check that w has the right shape\n",
    "    assert w.shape == (n_features,)\n",
    "\n",
    "    return w"
   ]
  },
  {
   "cell_type": "code",
   "execution_count": 16,
   "metadata": {
    "colab": {
     "base_uri": "https://localhost:8080/",
     "height": 101
    },
    "colab_type": "code",
    "id": "-9BbDyWkYBK1",
    "outputId": "daa26457-88f4-4dab-bb4c-a5b92cc934a7"
   },
   "outputs": [
    {
     "name": "stdout",
     "output_type": "stream",
     "text": [
      "w = [0.4170,0.7203]\n",
      "yhat[0]=0.8067\n",
      "Cost=0.7767\n"
     ]
    }
   ],
   "source": [
    "# Test the initialise_w method\n",
    "w = initialise_w(X.shape[1])\n",
    "print('w = [{:.4f},{:.4f}]'.format(w[0], w[1]))\n",
    "\n",
    "ypred = predict(X, w)\n",
    "print('yhat[0]={:.4f}'.format(ypred[0]))\n",
    "\n",
    "cost = cost_function(ypred, y)\n",
    "print('Cost={:.4f}'.format(cost))"
   ]
  },
  {
   "cell_type": "markdown",
   "metadata": {
    "colab_type": "text",
    "id": "B57BEsyjibMO"
   },
   "source": [
    "Expected output:\n",
    "```\n",
    "w = [0.4170,0.7203]\n",
    "yhat[0]=0.8067\n",
    "Cost=0.7767\n",
    "```"
   ]
  },
  {
   "cell_type": "markdown",
   "metadata": {
    "colab_type": "text",
    "id": "9P16h0KLqk4J"
   },
   "source": [
    "### Step 2: Calculate the gradient of J\n",
    "\n",
    "Recalling Equations (1) and (4):\n",
    "\n",
    "$\\hat{y}^i=\\sigma(\\sum_j w_j^{\\phantom{}}x^i_j)$,   $\\quad\\quad\\quad(1)$\n",
    "\n",
    "$J(\\mathbf{w})=-\\frac{1}{m}\\sum^m_{i=1} \\left[y^i \\log \\hat{y}^i + (1-y^i) \\log(1-\\hat{y}^i)\\right]$. $\\quad\\quad\\quad(4)$\n",
    "\n",
    "Evaluate the gradient $\\frac{dJ}{dw_i}$. You may need some pen and paper for this part."
   ]
  },
  {
   "cell_type": "code",
   "execution_count": 17,
   "metadata": {
    "colab": {
     "base_uri": "https://localhost:8080/",
     "height": 129
    },
    "colab_type": "code",
    "id": "TN_6Odvs21-w",
    "outputId": "a0f3cd6f-f6af-42e3-a5c5-25ffc987f8e6"
   },
   "outputs": [],
   "source": [
    "def calc_dJ_dw(X, y, w):\n",
    "    '''Function to calculate dJ/dw\n",
    "\n",
    "    Parameters:\n",
    "    X : 2d-array, feature matrix\n",
    "    y : 1d-array, true y values\n",
    "    w : 1d-array, linear regression model weights\n",
    "\n",
    "    Returns:\n",
    "    dJ_dw : 1d-array\n",
    "    '''\n",
    "    # Number of samples\n",
    "    m = len(y)\n",
    "    \n",
    "    ypred = predict(X, w)\n",
    "    \n",
    "    dJ_dw = np.dot(X.T, (ypred - y)) / y.shape[0]\n",
    "    \n",
    "    \n",
    "\n",
    "    # Check that dJ_dw has the right shape\n",
    "    assert dJ_dw.shape == w.shape\n",
    "\n",
    "    return dJ_dw"
   ]
  },
  {
   "cell_type": "code",
   "execution_count": 18,
   "metadata": {
    "colab": {},
    "colab_type": "code",
    "id": "2-1tUHT828Do"
   },
   "outputs": [
    {
     "name": "stdout",
     "output_type": "stream",
     "text": [
      "dJ/dw = [dJ/dw_0, dJ/dw_1] = [ 0.49369713 -0.21468038 -0.31495645 -0.35295134  0.78093749  0.44299134\n",
      " -0.35397491  0.04493079  0.22469626  0.34793172]\n"
     ]
    }
   ],
   "source": [
    "# Check the calc_dJ_dw method\n",
    "dJ_dw = calc_dJ_dw(X, y, w)\n",
    "print('dJ/dw = [dJ/dw_0, dJ/dw_1] =', dJ_dw)"
   ]
  },
  {
   "cell_type": "markdown",
   "metadata": {
    "colab_type": "text",
    "id": "BuX4gZIVKIUu"
   },
   "source": [
    "Expected output:\n",
    "\n",
    "    dJ/dw = [dJ/dw_0, dJ/dw_1] = [ 0.49369713 -0.21468038 -0.31495645 -0.35295134  0.78093749  0.44299134\n",
    "    -0.35397491  0.04493079  0.22469626  0.34793172]\n",
    " "
   ]
  },
  {
   "cell_type": "markdown",
   "metadata": {
    "colab_type": "text",
    "id": "i_8NAa40qoPq"
   },
   "source": [
    "### Step 3: Update the value of w\n",
    "\n",
    "With the gradients in hand we can update the value of $\\mathbf{w}$ using the update equations\n",
    "\n",
    "  $w_0 := w_0 - \\alpha \\frac{dJ}{dw_0}$, $\\quad\\quad\\quad(5)$\n",
    "\n",
    "  $w_1 := w_1 - \\alpha \\frac{dJ}{dw_1}$. $\\quad\\quad\\quad(6)$\n",
    "  \n",
    "This improves our estimate of $\\mathbf{w}$ by taking a step of size $\\alpha$ \"downhill\" towards the minimum."
   ]
  },
  {
   "cell_type": "code",
   "execution_count": 19,
   "metadata": {
    "colab": {},
    "colab_type": "code",
    "id": "_lkrcNe-iCeI"
   },
   "outputs": [],
   "source": [
    "def update_w(w, alpha, dJ_dw):\n",
    "    '''Update the weights vector w.\n",
    "    \n",
    "    Parameters:\n",
    "    w : 1d-array, weights vector\n",
    "    alpha : float, learning rate\n",
    "    dJ_dw : 1d-array, gradients vector\n",
    "    \n",
    "    Returns:\n",
    "    new_w : 1d-array, updated weights vector\n",
    "    '''    \n",
    "    new_w = w - (alpha * dJ_dw )  # INSERT CODE HERE\n",
    "    \n",
    "    # Check the dimensions of new_w\n",
    "    assert new_w.shape == w.shape\n",
    "    \n",
    "    return new_w"
   ]
  },
  {
   "cell_type": "markdown",
   "metadata": {
    "colab": {},
    "colab_type": "code",
    "id": "Buj0_3ORr7Ys"
   },
   "source": [
    "Let's try taking one iteration of batch gradient descent. \n",
    "\n",
    "As a reminder, the algorithm goes as follows:\n",
    "1. Initialise $\\mathbf{w}=[w_0, w_1]$ with random values.\n",
    "2. Calculate the gradients $\\frac{dJ}{dw_0}$, $\\frac{dJ}{dw_1}$ at this point.\n",
    "3. Update the value of $\\mathbf{w}$ using the update equations $w_0 := w_0 - \\alpha \\frac{dJ}{dw_0}$, $w_1 := w_1 - \\alpha \\frac{dJ}{dw_1}$. \n"
   ]
  },
  {
   "cell_type": "code",
   "execution_count": 20,
   "metadata": {
    "colab": {},
    "colab_type": "code",
    "id": "Z52wGIe3YRum"
   },
   "outputs": [
    {
     "name": "stdout",
     "output_type": "stream",
     "text": [
      "new w=[0.41208503 0.7224713  0.00326394 0.30586209 0.13894652 0.08790868\n",
      " 0.18979996 0.34511142 0.39452051 0.53533742]\n"
     ]
    }
   ],
   "source": [
    "# Initialise w to random value\n",
    "w = initialise_w(X.shape[1])  # INSERT CODE HERE\n",
    "\n",
    "# Calculate the gradient\n",
    "dJ_dw = calc_dJ_dw(X, y, w)# INSERT CODE HERE\n",
    "\n",
    "# Set the value of alpha to 0.01\n",
    "alpha = 0.01\n",
    "\n",
    "# Update w\n",
    "new_w = update_w(w, alpha, dJ_dw)# INSERT CODE HERE\n",
    "\n",
    "print('new w={}'.format(new_w))"
   ]
  },
  {
   "cell_type": "markdown",
   "metadata": {
    "colab_type": "text",
    "id": "xd9Q3pyam_i9"
   },
   "source": [
    "Expected output:\n",
    "```\n",
    "new w=[0.41208503 0.7224713  0.00326394 0.30586209 0.13894652 0.08790868\n",
    " 0.18979996 0.34511142 0.39452051 0.53533742]\n",
    "```"
   ]
  },
  {
   "cell_type": "code",
   "execution_count": 21,
   "metadata": {
    "colab": {},
    "colab_type": "code",
    "id": "Q8g7Aaw_YSHM"
   },
   "outputs": [
    {
     "name": "stdout",
     "output_type": "stream",
     "text": [
      "Initial Cost: 0.7767\n",
      "Cost after one step of gradient descent: 0.7767\n"
     ]
    }
   ],
   "source": [
    "# Calculate the cost at new_w\n",
    "\n",
    "new_cost = cost_function(predict(X, w), y)# INSERT CODE HERE\n",
    "\n",
    "print('Initial Cost: {:.4f}'.format(cost))\n",
    "print('Cost after one step of gradient descent: {:.4f}'.format(new_cost))"
   ]
  },
  {
   "cell_type": "markdown",
   "metadata": {
    "colab_type": "text",
    "id": "iOO300TvnEX5"
   },
   "source": [
    "Expected output:\n",
    "```\n",
    "TO UPDATE\n",
    "Initial Cost: 0.7767\n",
    "Cost after one step of gradient descent: 0.7607\n",
    "```"
   ]
  },
  {
   "cell_type": "markdown",
   "metadata": {
    "colab_type": "text",
    "id": "-o1u1HBxqvDu"
   },
   "source": [
    "### Step 4: Repeat\n",
    "\n",
    "We have a made a small improvement in the estimation of the parameters for our linear regression model. \n",
    "\n",
    "In order to find the best estimate of $\\mathbf{w}$ we will need to do many iterations of gradient descent to get to the minimum of $J(\\mathbf{w})$. \n",
    "\n",
    "Let's put everything together into a single \"fit\" function that takes X and y as inputs and iterates the process.\n"
   ]
  },
  {
   "cell_type": "code",
   "execution_count": 22,
   "metadata": {
    "colab": {},
    "colab_type": "code",
    "id": "228tEsDzY646"
   },
   "outputs": [],
   "source": [
    "def fit(X, y, n_iterations=100, alpha=0.01, verbose=False):\n",
    "    '''Fit linear regression model to data X, y.\n",
    "    \n",
    "    Parameters:\n",
    "    X : 2d-array, feature matrix shape=(m, n_features)\n",
    "    y : 1d-array, targets\n",
    "    n_iterations : int, number of iterations of gradient descent\n",
    "    alpha : float, learning rate\n",
    "    verbose : bool, prints the cost every 10 iterations\n",
    "    \n",
    "    Returns:\n",
    "    w : nd-array, final weights matrix shape=(n_features,)\n",
    "    cost_values : 1d-array, cost at each iteration shape=(n_iterations,)\n",
    "    w_values : nd-array, weights at each iteration shape=(n_iterations, n_features)\n",
    "    '''\n",
    "    n_features = X.shape[1]\n",
    "    \n",
    "    # Step 1: Initialise w at a random point\n",
    "    w = initialise_w(X.shape[1]) # INSERT CODE HERE\n",
    "    \n",
    "    # We are going to save the values of the cost and w at each iteration for later analysis\n",
    "    cost_values = [] \n",
    "    w_values = [] \n",
    "    \n",
    "    # Repeat n_iterations times\n",
    "    for i in range(n_iterations):\n",
    "        \n",
    "        # Step 2: Calculate the gradient \n",
    "        dJ_dw = calc_dJ_dw(X, y, w)# INSERT CODE HERE\n",
    "        \n",
    "        \n",
    "        # Step 3: Update w\n",
    "        w = update_w(w, alpha, dJ_dw)# INSERT CODE HERE\n",
    "        \n",
    "        \n",
    "        # Calculate the cost \n",
    "        cost = cost_function(predict(X, w), y)# INSERT CODE HERE\n",
    "        \n",
    "\n",
    "        if verbose and i % 100 == 0:\n",
    "            print('Iteration {}: Cost={:.6f}'.format(i, cost))\n",
    "\n",
    "        # Save the values of the cost and w after each iteration\n",
    "        cost_values.append(cost)\n",
    "        w_values.append(w)\n",
    "  \n",
    "    cost_values = np.array(cost_values)\n",
    "    w_values = np.array(w_values)\n",
    "    \n",
    "    return w, cost_values, w_values"
   ]
  },
  {
   "cell_type": "markdown",
   "metadata": {
    "colab_type": "text",
    "id": "XHYQU6HUKIVA"
   },
   "source": [
    "Let's try fitting X and y with the values\n",
    "\n",
    "    alpha=0.01\n",
    "    n_iterations=1000"
   ]
  },
  {
   "cell_type": "code",
   "execution_count": 23,
   "metadata": {
    "colab": {},
    "colab_type": "code",
    "id": "Tmp2XL43mKsx"
   },
   "outputs": [
    {
     "name": "stdout",
     "output_type": "stream",
     "text": [
      "Iteration 0: Cost=0.760678\n",
      "Iteration 100: Cost=0.323209\n",
      "Iteration 200: Cost=0.246722\n",
      "Iteration 300: Cost=0.209115\n",
      "Iteration 400: Cost=0.186143\n",
      "Iteration 500: Cost=0.170481\n",
      "Iteration 600: Cost=0.159026\n",
      "Iteration 700: Cost=0.150242\n",
      "Iteration 800: Cost=0.143272\n",
      "Iteration 900: Cost=0.137600\n",
      "Final value of w=[-0.19853515  0.63897793  0.29965423  0.48473537 -0.26374862 -0.25969949\n",
      "  1.12662933  0.45179526 -0.48198174 -0.08320325]\n"
     ]
    }
   ],
   "source": [
    "w, cost_values, w_values = fit(X, y, alpha=0.01, n_iterations=1000, verbose=True)\n",
    "\n",
    "print('Final value of w={}'.format(w))"
   ]
  },
  {
   "cell_type": "markdown",
   "metadata": {
    "colab_type": "text",
    "id": "aAC3sLwgsQdH"
   },
   "source": [
    "Expected output:\n",
    "```\n",
    "Final value of w=[-0.19853515  0.63897793  0.29965423  0.48473537 -0.26374862 -0.25969949\n",
    "  1.12662933  0.45179526 -0.48198174 -0.08320325]\n",
    "```\n",
    "  "
   ]
  },
  {
   "cell_type": "markdown",
   "metadata": {
    "colab_type": "text",
    "id": "dCxdTKW4gc6-"
   },
   "source": [
    "## 5. Visualising gradient descent\n",
    "\n",
    "### a. Cost as a function of gradient descent iteration\n",
    "\n",
    "It is often useful to plot the cost after each iteration of gradient descent to check that it is decreasing. (We will see in future weeks that there is a lot of other useful information here.)"
   ]
  },
  {
   "cell_type": "code",
   "execution_count": 24,
   "metadata": {
    "colab": {},
    "colab_type": "code",
    "id": "mXY6qhtWmMvy"
   },
   "outputs": [
    {
     "data": {
      "text/plain": [
       "[<matplotlib.lines.Line2D at 0x4c5242f5c0>]"
      ]
     },
     "execution_count": 24,
     "metadata": {},
     "output_type": "execute_result"
    },
    {
     "data": {
      "image/png": "[encoded data removed]",
      "text/plain": [
       "<Figure size 432x288 with 1 Axes>"
      ]
     },
     "metadata": {},
     "output_type": "display_data"
    }
   ],
   "source": [
    "# Plot the cost at each iteration of gradient descent\n",
    "# INSERT CODE HERE\n",
    "#iteration = \n",
    "plt.plot(cost_values)"
   ]
  },
  {
   "cell_type": "markdown",
   "metadata": {
    "colab_type": "text",
    "id": "Fd-UMXe_1CX1"
   },
   "source": [
    "### b. Cost as a function of $\\mathbf{w}$\n",
    "\n",
    "Below is some code that will plot the cost function $J$ as a function of $w_0$ and $w_1$, with the values of $\\mathbf{w}$ evaluated at each iteration superimposed. \n",
    "\n",
    "You should be able to observe the values of $\\mathbf{w}$ slowly moving towards the minimum value of $J$."
   ]
  },
  {
   "cell_type": "code",
   "execution_count": 25,
   "metadata": {
    "colab": {},
    "colab_type": "code",
    "id": "bBO9q_8trXT6"
   },
   "outputs": [],
   "source": [
    "def get_cost_matrix():\n",
    "    w0_list = np.linspace(-1, 1, 100)\n",
    "    w1_list = np.linspace(-1, 1, 100)\n",
    "\n",
    "    J = np.zeros((len(w0_list),len(w1_list)))\n",
    "    for i in range(len(w0_list)):\n",
    "        for j in range(len(w1_list)):\n",
    "            w0 = w0_list[i]\n",
    "            w1 = w1_list[j]\n",
    "            w[0] = w0\n",
    "            w[1] = w1\n",
    "            ypred = predict(X, w)\n",
    "            J[i,j] = cost_function(ypred, y)\n",
    "    w0ax, w1ax = np.meshgrid(w0_list, w1_list)\n",
    "    return w0ax, w1ax, J\n",
    "  \n",
    "def plot_gradient_descent(w_values):\n",
    "    # Plot the w values at each iteration\n",
    "    plt.scatter(w_values[:,0], w_values[:,1], color='k', s=10)\n",
    "    # Contour map of cost function\n",
    "    w0ax, w1ax, J = get_cost_matrix() \n",
    "    CS = plt.contour(w1ax, w0ax, J, cmap='viridis')\n",
    "    # Add labels to the contours\n",
    "    plt.clabel(CS, inline=1, fontsize=10)\n",
    "\n",
    "    plt.xlabel('w0')\n",
    "    plt.ylabel('w1')\n",
    "    plt.title('J(w)')\n",
    "    plt.show()"
   ]
  },
  {
   "cell_type": "code",
   "execution_count": 26,
   "metadata": {
    "colab": {},
    "colab_type": "code",
    "id": "h8k3F1PBwTRc"
   },
   "outputs": [
    {
     "data": {
      "image/png": "[encoded data removed]",
      "text/plain": [
       "<Figure size 432x288 with 1 Axes>"
      ]
     },
     "metadata": {},
     "output_type": "display_data"
    }
   ],
   "source": [
    "plot_gradient_descent(w_values)"
   ]
  },
  {
   "cell_type": "markdown",
   "metadata": {
    "colab_type": "text",
    "id": "FDpAvUthgc7N"
   },
   "source": [
    "## 6. Understanding the performance of a classifier"
   ]
  },
  {
   "cell_type": "code",
   "execution_count": 27,
   "metadata": {
    "colab": {},
    "colab_type": "code",
    "id": "iyHOebmsgc7N"
   },
   "outputs": [
    {
     "name": "stdout",
     "output_type": "stream",
     "text": [
      "             precision    recall  f1-score   support\n",
      "\n",
      "          0       0.82      0.95      0.88       498\n",
      "          1       0.95      0.79      0.86       502\n",
      "\n",
      "avg / total       0.88      0.87      0.87      1000\n",
      "\n"
     ]
    }
   ],
   "source": [
    "from sklearn.metrics import classification_report\n",
    "\n",
    "# modify predictions such that they equal 1 if p >= 0.5 else 0\n",
    "#y_pred = # INSERT CODE HERE\n",
    "y_pred = []\n",
    "for i in predict(X, w):\n",
    "    if i > 0.5:\n",
    "        y_pred.append(1)\n",
    "    else:\n",
    "        y_pred.append(0)\n",
    "#print(y_pred_new)\n",
    "print(classification_report(y, y_pred))"
   ]
  },
  {
   "cell_type": "markdown",
   "metadata": {
    "colab_type": "text",
    "id": "qlVceaDLgc7Q"
   },
   "source": [
    "For a reminder about precision, recall and f1-score: \n",
    "\n",
    "https://towardsdatascience.com/accuracy-precision-recall-or-f1-331fb37c5cb9"
   ]
  },
  {
   "cell_type": "markdown",
   "metadata": {
    "colab_type": "text",
    "id": "GTtuEJ7egc7Q"
   },
   "source": [
    "Plot the confusion matrix to visualise the Type 1 and Type 2 errors (False Positive and False Negatives)"
   ]
  },
  {
   "cell_type": "code",
   "execution_count": 28,
   "metadata": {
    "colab": {},
    "colab_type": "code",
    "id": "JYxDmXRKgc7R"
   },
   "outputs": [
    {
     "data": {
      "image/png": "[encoded data removed]",
      "text/plain": [
       "<Figure size 432x288 with 2 Axes>"
      ]
     },
     "metadata": {},
     "output_type": "display_data"
    }
   ],
   "source": [
    "from sklearn.metrics import confusion_matrix\n",
    "cm = confusion_matrix(y, y_pred)\n",
    " \n",
    "from itertools import product\n",
    "plt.imshow(cm, cmap=plt.cm.Blues)\n",
    "plt.title('Confusion matrix')\n",
    "for i, j in product(range(2), range(2)):\n",
    "    plt.text(j, i, cm[i, j], horizontalalignment=\"center\")\n",
    "plt.ylabel('True label')\n",
    "plt.xlabel('Predicted label')\n",
    "plt.colorbar()\n",
    "plt.tight_layout()\n",
    "plt.show()"
   ]
  },
  {
   "cell_type": "markdown",
   "metadata": {
    "colab_type": "text",
    "id": "o4r2x6Z5gc7T"
   },
   "source": [
    "Plot a ROC curve and measure the AUC (Area under the Curve)."
   ]
  },
  {
   "cell_type": "code",
   "execution_count": 29,
   "metadata": {
    "colab": {},
    "colab_type": "code",
    "id": "th9s4ak9gc7T"
   },
   "outputs": [
    {
     "data": {
      "image/png": "[encoded data removed]",
      "text/plain": [
       "<Figure size 432x288 with 1 Axes>"
      ]
     },
     "metadata": {},
     "output_type": "display_data"
    }
   ],
   "source": [
    "from sklearn.metrics import roc_curve, auc\n",
    " \n",
    "# Return the model probabilities instead of the binarised predictions\n",
    "y_prob = np.matrix([[1-i, i] for i in predict(X, w)])\n",
    "\n",
    "# Calculate the FPR and TPR at various thresholds\n",
    "fpr, tpr, thresholds = roc_curve(y, y_prob[:,1])\n",
    "roc_auc = auc(fpr, tpr)\n",
    " \n",
    "# Plot ROC curve\n",
    "plt.plot(fpr, tpr, label='AUC={:.4f}'.format(roc_auc))\n",
    "plt.xlabel('false positive rate')\n",
    "plt.ylabel('true positive rate')\n",
    "plt.legend()\n",
    "plt.show()"
   ]
  },
  {
   "cell_type": "markdown",
   "metadata": {
    "colab_type": "text",
    "id": "TUASeLmGgc7U"
   },
   "source": [
    "**Questions:** \n",
    "1. Explain the main elements of the ROC curve. Sketch a ROC curve for the best (100% accurate) and worst case (random predictions) models.\n",
    "2. What does an AUC measures. What is the expected AUC value for the best and worst case models?"
   ]
  },
  {
   "cell_type": "markdown",
   "metadata": {
    "colab_type": "text",
    "id": "1VXK_AjVgc7U"
   },
   "source": [
    "---"
   ]
  },
  {
   "cell_type": "markdown",
   "metadata": {
    "colab_type": "text",
    "id": "RvQbijqVgc7W"
   },
   "source": [
    "## Part B: Object Oriented Programming"
   ]
  },
  {
   "cell_type": "markdown",
   "metadata": {
    "colab_type": "text",
    "id": "Bbl32mENgc7W"
   },
   "source": [
    "## 1. Introduction: \n",
    "In OOP we are concerned with creating *objects* with properties rather than methods that implement actions. \n",
    "\n",
    "**Questions**\n",
    "\n",
    "* What is the `__init__` method for and that is it for?\n",
    "\n",
    "** INSERT ANSWER HERE **\n",
    "\n",
    "* What does `self` refer to?\n",
    "\n",
    "** INSERT ANSWER HERE **\n",
    "\n",
    "* What are arguments and keyword arguments? Why would you choose one or the other? How are they implemented in python?\n",
    "\n",
    "** INSERT ANSWER HERE **"
   ]
  },
  {
   "cell_type": "markdown",
   "metadata": {
    "colab_type": "text",
    "id": "BWTRyu96gc7W"
   },
   "source": [
    "## 2. class LogisticRegression:\n",
    "Below you will implement the logistic regression methods above as part of a class object.\n",
    "\n",
    "Things to consider when implementing your solution:\n",
    "\n",
    "* What parameters should be set on initialisation? \n",
    "* What parameters should be considered class attributes?\n",
    "* What should this class automatically do when initialised?\n",
    "* Write a short docstring explaining each method (there are many ways to do this, see example for numpy convention)."
   ]
  },
  {
   "cell_type": "code",
   "execution_count": 30,
   "metadata": {
    "colab": {},
    "colab_type": "code",
    "id": "gquK-G2Zgc7X"
   },
   "outputs": [],
   "source": [
    "def safe_log(x):\n",
    "    return np.where(x==0, np.log(x+1e-10), np.log(x))\n",
    "\n",
    "class LogisticRegression:\n",
    "    \n",
    "    def __init__(self,df,alpha): \n",
    "        self.n_iterations=1000        \n",
    "        # assign the input arguments to class attributes\n",
    "        # INSERT CODE HERE\n",
    "        \n",
    "        self.X = df[df.columns.difference(['target'])]\n",
    "        self.y = df.target\n",
    "        self.n_features = len(X)\n",
    "        self.alpha = (alpha)\n",
    "        self.w = self._initialise_w(self.n_features)\n",
    "        # \"private\" methods are preceded with an underscore in the name\n",
    "        # in other programming languages such functions are treated differently\n",
    "        # in Python we use this convention as an indication to the user that they are\n",
    "        # intended to be called by other methods in the class and not from outside of the class\n",
    "\n",
    "    def _sigmoid(self, x):\n",
    "        \"\"\"Implements the sigmoid function\n",
    "                           1\n",
    "        sigmoid(x) =  -------------\n",
    "                      1 + exp(-x)\n",
    "\n",
    "        Parameters\n",
    "        ----------\n",
    "        x : float or iterable\n",
    "\n",
    "        Returns\n",
    "        -------\n",
    "        float or iterable\n",
    "        \"\"\"\n",
    "        return 1./(1 + np.exp(-x))\n",
    "        \n",
    "    def _calc_dJ_dw(self, X, y, w):\n",
    "        '''Function to calculate dJ/dw\n",
    "\n",
    "        Parameters:\n",
    "        X : 2d-array, feature matrix\n",
    "        y : 1d-array, true y values\n",
    "        w : 1d-array, linear regression model weights\n",
    "\n",
    "        Returns:\n",
    "        dJ_dw : 1d-array\n",
    "        '''\n",
    "        m = len(y)\n",
    "        ypred = self.predict(X, w)\n",
    "        dJ_dw = np.dot(X.T, (ypred - y)) / y.shape[0]\n",
    "        # Check that dJ_dw has the right shape\n",
    "        assert dJ_dw.shape == w.shape\n",
    "        return dJ_dw\n",
    "    \n",
    "    def _initialise_w(self, n_features):\n",
    "        '''Initialise the weights vector w with random values.\n",
    "\n",
    "        Parameters:\n",
    "        n_features : int, number of features \n",
    "\n",
    "        Returns:\n",
    "        w : 1d-array\n",
    "        '''\n",
    "        # Set a seed so we get predictable values\n",
    "        np.random.seed(1)\n",
    "        # create a random numpy array of features of length n_features\n",
    "        self.w = np.random.rand(n_features,)\n",
    "        # Check that w has the right shape\n",
    "        assert self.w.shape == (n_features,)\n",
    "        return self.w\n",
    "    \n",
    "    def _update_w(self, w, alpha, dJ_dw):\n",
    "        '''Update the weights vector w.\n",
    "\n",
    "        Parameters:\n",
    "        w : 1d-array, weights vector\n",
    "        alpha : float, learning rate\n",
    "        dJ_dw : 1d-array, gradients vector\n",
    "\n",
    "        Returns:\n",
    "        new_w : 1d-array, updated weights vector\n",
    "        '''    \n",
    "        new_w = w - (alpha * dJ_dw )\n",
    "        # Check the dimensions of new_w\n",
    "        assert new_w.shape == w.shape\n",
    "        return new_w\n",
    "    \n",
    "    def cost_function(self, y, ypred):\n",
    "        '''The cost function J(w) as defined in Equation (4).\n",
    "\n",
    "        Parameters:\n",
    "        ypred : 1d-array, y values predicted by model \n",
    "        y : 1d-array, true y values\n",
    "\n",
    "        Returns:\n",
    "        float, J (the cost)\n",
    "        '''\n",
    "        # m is the number of samples\n",
    "        m = y.shape[0]\n",
    "\n",
    "        # J is the cost\n",
    "        J = (-1 / m ) * sum(y * safe_log(ypred) + (1 - y) * safe_log(1 - ypred)) \n",
    "\n",
    "        # Check that J is a scalar\n",
    "        #assert J.shape == ()\n",
    "\n",
    "        return J\n",
    "    def predict_proba(self, y_pred):\n",
    "        # INSERT CODE HERE\n",
    "        return 1\n",
    "    def predict(self, X, w):\n",
    "        '''The logistic regression model as defined in Equation (1).\n",
    "        It takes X and w as inputs and returns a 1d-array of predictions.\n",
    "\n",
    "        Parameters:\n",
    "        X : 2d-array, shape=(n_samples,n_features)\n",
    "        w : 1d-array, shape=(n_features,)\n",
    "\n",
    "        Returns:\n",
    "        ypred : 1d-array, shape=(n_samples,)\n",
    "        '''\n",
    "        # Check that the number of features in X is equal to the number features in the weights vector\n",
    "        print(X.shape)\n",
    "        print(w.shape)\n",
    "        assert X.shape[1] == len(w)\n",
    "        ypred = self._sigmoid(np.dot(X,w))\n",
    "        # Check that the number of predictions made is equal to the number of samples in X\n",
    "        assert len(ypred) == X.shape[0]\n",
    "        return ypred\n",
    "\n",
    "    def fit(self, verbose=False ):#, X, y, n_iterations=100, alpha=0.01, verbose=False):\n",
    "        # INSERT CODE HERE\n",
    "        '''Fit linear regression model to data X, y.\n",
    "\n",
    "        Parameters:\n",
    "        X : 2d-array, feature matrix shape=(m, n_features)\n",
    "        y : 1d-array, targets\n",
    "        n_iterations : int, number of iterations of gradient descent\n",
    "        alpha : float, learning rate\n",
    "        verbose : bool, prints the cost every 10 iterations\n",
    "\n",
    "        Returns:\n",
    "        w : nd-array, final weights matrix shape=(n_features,)\n",
    "        cost_values : 1d-array, cost at each iteration shape=(n_iterations,)\n",
    "        w_values : nd-array, weights at each iteration shape=(n_iterations, n_features)\n",
    "        '''\n",
    "\n",
    "        # We are going to save the values of the cost and w at each iteration for later analysis\n",
    "        cost_values = [] \n",
    "        w_values = [] \n",
    "\n",
    "        # Repeat n_iterations times\n",
    "        for i in range(self.n_iterations):\n",
    "\n",
    "            # Step 2: Calculate the gradient \n",
    "            dJ_dw = self._calc_dJ_dw(self.X, self.y, self.w)\n",
    "\n",
    "            # Step 3: Update w\n",
    "            w = update_w(self.w, self.alpha, dJ_dw)# INSERT CODE HERE\n",
    "\n",
    "            # Calculate the cost \n",
    "            cost = cost_function(self.predict(self.X, self.w), self.y)# INSERT CODE HERE\n",
    "\n",
    "            if verbose and i % 100 == 0:\n",
    "                print('Iteration {}: Cost={:.6f}'.format(i, cost))\n",
    "\n",
    "            # Save the values of the cost and w after each iteration\n",
    "            cost_values.append(cost)\n",
    "            w_values.append(w)\n",
    "\n",
    "        cost_values = np.array(cost_values)\n",
    "        w_values = np.array(w_values)\n",
    "\n",
    "        return w, cost_values, w_values"
   ]
  },
  {
   "cell_type": "code",
   "execution_count": 31,
   "metadata": {
    "colab": {},
    "colab_type": "code",
    "id": "Jmx6yUPzgc7a"
   },
   "outputs": [
    {
     "name": "stdout",
     "output_type": "stream",
     "text": [
      "[4.17022005e-01 7.20324493e-01 1.14374817e-04 3.02332573e-01\n",
      " 1.46755891e-01 9.23385948e-02 1.86260211e-01 3.45560727e-01\n",
      " 3.96767474e-01 5.38816734e-01 4.19194514e-01 6.85219500e-01\n",
      " 2.04452250e-01 8.78117436e-01 2.73875932e-02 6.70467510e-01\n",
      " 4.17304802e-01 5.58689828e-01 1.40386939e-01 1.98101489e-01\n",
      " 8.00744569e-01 9.68261576e-01 3.13424178e-01 6.92322616e-01\n",
      " 8.76389152e-01 8.94606664e-01 8.50442114e-02 3.90547832e-02\n",
      " 1.69830420e-01 8.78142503e-01 9.83468338e-02 4.21107625e-01\n",
      " 9.57889530e-01 5.33165285e-01 6.91877114e-01 3.15515631e-01\n",
      " 6.86500928e-01 8.34625672e-01 1.82882773e-02 7.50144315e-01\n",
      " 9.88861089e-01 7.48165654e-01 2.80443992e-01 7.89279328e-01\n",
      " 1.03226007e-01 4.47893526e-01 9.08595503e-01 2.93614148e-01\n",
      " 2.87775339e-01 1.30028572e-01 1.93669579e-02 6.78835533e-01\n",
      " 2.11628116e-01 2.65546659e-01 4.91573159e-01 5.33625451e-02\n",
      " 5.74117605e-01 1.46728575e-01 5.89305537e-01 6.99758360e-01\n",
      " 1.02334429e-01 4.14055988e-01 6.94400158e-01 4.14179270e-01\n",
      " 4.99534589e-02 5.35896406e-01 6.63794645e-01 5.14889112e-01\n",
      " 9.44594756e-01 5.86555041e-01 9.03401915e-01 1.37474704e-01\n",
      " 1.39276347e-01 8.07391289e-01 3.97676837e-01 1.65354197e-01\n",
      " 9.27508580e-01 3.47765860e-01 7.50812103e-01 7.25997985e-01\n",
      " 8.83306091e-01 6.23672207e-01 7.50942434e-01 3.48898342e-01\n",
      " 2.69927892e-01 8.95886218e-01 4.28091190e-01 9.64840047e-01\n",
      " 6.63441498e-01 6.21695720e-01 1.14745973e-01 9.49489259e-01\n",
      " 4.49912133e-01 5.78389614e-01 4.08136803e-01 2.37026980e-01\n",
      " 9.03379521e-01 5.73679487e-01 2.87032703e-03 6.17144914e-01\n",
      " 3.26644902e-01 5.27058102e-01 8.85942099e-01 3.57269760e-01\n",
      " 9.08535151e-01 6.23360116e-01 1.58212428e-02 9.29437234e-01\n",
      " 6.90896918e-01 9.97322850e-01 1.72340508e-01 1.37135750e-01\n",
      " 9.32595463e-01 6.96818161e-01 6.60001727e-02 7.55463053e-01\n",
      " 7.53876188e-01 9.23024536e-01 7.11524759e-01 1.24270962e-01\n",
      " 1.98801338e-02 2.62109869e-02 2.83064880e-02 2.46211068e-01\n",
      " 8.60027949e-01 5.38831064e-01 5.52821979e-01 8.42030892e-01\n",
      " 1.24173315e-01 2.79183679e-01 5.85759271e-01 9.69595748e-01\n",
      " 5.61030219e-01 1.86472894e-02 8.00632673e-01 2.32974274e-01\n",
      " 8.07105196e-01 3.87860644e-01 8.63541855e-01 7.47121643e-01\n",
      " 5.56240234e-01 1.36455226e-01 5.99176895e-02 1.21343456e-01\n",
      " 4.45518785e-02 1.07494129e-01 2.25709339e-01 7.12988980e-01\n",
      " 5.59716982e-01 1.25559802e-02 7.19742797e-02 9.67276330e-01\n",
      " 5.68100462e-01 2.03293235e-01 2.52325745e-01 7.43825854e-01\n",
      " 1.95429481e-01 5.81358927e-01 9.70019989e-01 8.46828801e-01\n",
      " 2.39847759e-01 4.93769714e-01 6.19955718e-01 8.28980900e-01\n",
      " 1.56791395e-01 1.85762022e-02 7.00221437e-02 4.86345111e-01\n",
      " 6.06329462e-01 5.68851437e-01 3.17362409e-01 9.88616154e-01\n",
      " 5.79745219e-01 3.80141173e-01 5.50948219e-01 7.45334431e-01\n",
      " 6.69232893e-01 2.64919558e-01 6.63348344e-02 3.70084198e-01\n",
      " 6.29717507e-01 2.10174010e-01 7.52755554e-01 6.65364814e-02\n",
      " 2.60315099e-01 8.04754564e-01 1.93434283e-01 6.39460881e-01\n",
      " 5.24670309e-01 9.24807970e-01 2.63296770e-01 6.59610907e-02\n",
      " 7.35065963e-01 7.72178030e-01 9.07815853e-01 9.31972069e-01\n",
      " 1.39515730e-02 2.34362086e-01 6.16778357e-01 9.49016321e-01\n",
      " 9.50176119e-01 5.56653188e-01 9.15606350e-01 6.41566209e-01\n",
      " 3.90007714e-01 4.85990667e-01 6.04310483e-01 5.49547922e-01\n",
      " 9.26181427e-01 9.18733436e-01 3.94875613e-01 9.63262528e-01\n",
      " 1.73955667e-01 1.26329519e-01 1.35079158e-01 5.05662166e-01\n",
      " 2.15248053e-02 9.47970211e-01 8.27115471e-01 1.50189807e-02\n",
      " 1.76196256e-01 3.32063574e-01 1.30996845e-01 8.09490692e-01\n",
      " 3.44736653e-01 9.40107482e-01 5.82014180e-01 8.78831984e-01\n",
      " 8.44734445e-01 9.05392319e-01 4.59880266e-01 5.46346816e-01\n",
      " 7.98603591e-01 2.85718852e-01 4.90253523e-01 5.99110308e-01\n",
      " 1.55332756e-02 5.93481408e-01 4.33676349e-01 8.07360529e-01\n",
      " 3.15244803e-01 8.92888709e-01 5.77857215e-01 1.84010202e-01\n",
      " 7.87929234e-01 6.12031177e-01 5.39092721e-02 4.20193680e-01\n",
      " 6.79068837e-01 9.18601778e-01 4.02024891e-04 9.76759149e-01\n",
      " 3.76580315e-01 9.73783538e-01 6.04716101e-01 8.28845808e-01\n",
      " 5.74711505e-01 6.28076198e-01 2.85576282e-01 5.86833341e-01\n",
      " 7.50021764e-01 8.58313836e-01 7.55082188e-01 6.98057248e-01\n",
      " 8.64479430e-01 3.22680997e-01 6.70788791e-01 4.50873936e-01\n",
      " 3.82102752e-01 4.10811350e-01 4.01479583e-01 3.17383946e-01\n",
      " 6.21919368e-01 4.30247271e-01 9.73802078e-01 6.77800891e-01\n",
      " 1.98569888e-01 4.26701009e-01 3.43346240e-01 7.97638804e-01\n",
      " 8.79998289e-01 9.03841956e-01 6.62719812e-01 2.70208262e-01\n",
      " 2.52366702e-01 8.54897943e-01 5.27714646e-01 8.02161084e-01\n",
      " 5.72488517e-01 7.33142525e-01 5.19011627e-01 7.70883911e-01\n",
      " 5.68857991e-01 4.65709879e-01 3.42688908e-01 6.82093484e-02\n",
      " 3.77924179e-01 7.96260777e-02 9.82817114e-01 1.81612851e-01\n",
      " 8.11858698e-01 8.74961645e-01 6.88413252e-01 5.69494413e-01\n",
      " 1.60971437e-01 4.66880023e-01 3.45172051e-01 2.25039958e-01\n",
      " 5.92511869e-01 3.12269838e-01 9.16305553e-01 9.09635525e-01\n",
      " 2.57118294e-01 1.10891301e-01 1.92962732e-01 4.99584171e-01\n",
      " 7.28585668e-01 2.08194438e-01 2.48033558e-01 8.51671875e-01\n",
      " 4.15848718e-01 6.16685067e-01 2.33666139e-01 1.01967259e-01\n",
      " 5.15857017e-01 4.77140987e-01 1.52671644e-01 6.21806232e-01\n",
      " 5.44010119e-01 6.54137347e-01 1.44545540e-01 7.51527817e-01\n",
      " 2.22049140e-01 5.19351824e-01 7.85296028e-01 2.23304280e-02\n",
      " 3.24362460e-01 8.72922376e-01 8.44709608e-01 5.38440593e-01\n",
      " 8.66608274e-01 9.49805991e-01 8.26406998e-01 8.54115444e-01\n",
      " 9.87434018e-02 6.51304332e-01 7.03516988e-01 6.10240813e-01\n",
      " 7.99615262e-01 3.45712199e-02 7.70238735e-01 7.31728601e-01\n",
      " 2.59698393e-01 2.57069299e-01 6.32303317e-01 3.45297462e-01\n",
      " 7.96588678e-01 4.46146232e-01 7.82749415e-01 9.90471784e-01\n",
      " 3.00248340e-01 1.43005828e-01 9.01308436e-01 5.41559379e-01\n",
      " 9.74740371e-01 6.36604400e-01 9.93913025e-01 5.46070804e-01\n",
      " 5.26425934e-01 1.35427903e-01 3.55705171e-01 2.62185673e-02\n",
      " 1.60395180e-01 7.45637193e-01 3.03996899e-02 3.66543097e-01\n",
      " 8.62346253e-01 6.92677718e-01 6.90942142e-01 1.88636801e-01\n",
      " 4.41904281e-01 5.81577407e-01 9.89751708e-01 2.03906225e-01\n",
      " 2.47732902e-01 2.62173084e-01 7.50172413e-01 4.56975327e-01\n",
      " 5.69294384e-02 5.08516241e-01 2.11960165e-01 7.98604245e-01\n",
      " 2.97331382e-01 2.76060120e-02 5.93432449e-01 8.43840429e-01\n",
      " 3.81016124e-01 7.49858311e-01 5.11141478e-01 5.40951805e-01\n",
      " 9.59434321e-01 8.03960891e-01 3.23230666e-02 7.09387251e-01\n",
      " 4.65001482e-01 9.47548941e-01 2.21432734e-01 2.67072020e-01\n",
      " 8.14739649e-02 4.28618829e-01 1.09018764e-01 6.33786761e-01\n",
      " 8.02963237e-01 6.96800496e-01 7.66211381e-01 3.42454120e-01\n",
      " 8.45851483e-01 4.28768775e-01 8.24009870e-01 6.26496159e-01\n",
      " 1.43423049e-01 7.83868999e-02 1.83326429e-02 6.67249976e-02\n",
      " 4.58583814e-01 1.13341923e-01 2.77833488e-02 7.54861481e-01\n",
      " 3.94850480e-01 7.46938496e-01 4.52404827e-01 4.50086747e-01\n",
      " 4.78072507e-01 4.74003927e-01 8.03163342e-01 4.02392520e-01\n",
      " 9.04686160e-01 3.70610480e-02 7.73874343e-01 1.25641381e-01\n",
      " 6.18513567e-01 1.03642613e-02 5.38627283e-01 3.01795662e-03\n",
      " 9.51193785e-01 9.05402034e-01 7.95966942e-01 9.15274320e-01\n",
      " 1.45558231e-01 1.57730070e-01 1.87631673e-01 6.22495902e-01\n",
      " 9.05809496e-01 9.89955178e-01 7.11122459e-01 7.31800409e-01\n",
      " 9.09293205e-01 4.00873732e-01 2.49850680e-01 1.73430171e-01\n",
      " 1.19457050e-01 8.12610588e-01 1.46792373e-01 2.64297483e-01\n",
      " 8.19089179e-01 3.10587252e-01 9.82417449e-01 2.66638702e-01\n",
      " 5.33653345e-01 3.14467011e-01 9.10772831e-01 3.66556644e-01\n",
      " 4.33592327e-01 5.12292692e-01 9.38886477e-01 3.09490063e-02\n",
      " 7.16878664e-01 8.91018954e-01 2.72872235e-02 5.22051247e-01\n",
      " 3.25989812e-01 8.59489321e-01 5.58516551e-01 6.90227868e-01\n",
      " 4.52853500e-01 6.28309038e-01 2.90096852e-01 9.34857797e-03\n",
      " 5.76755935e-01 3.11444214e-01 5.17267599e-01 9.16405853e-01\n",
      " 4.26474789e-01 2.47396037e-01 3.71293761e-01 9.31861117e-01\n",
      " 9.36868381e-01 8.44329949e-01 9.20206514e-01 2.27900290e-01\n",
      " 8.74822096e-02 2.27309736e-01 3.14376616e-01 1.74765876e-01\n",
      " 6.07094162e-01 4.13586415e-01 8.16351512e-01 1.85130398e-01\n",
      " 7.01876530e-01 2.40355625e-01 5.74219089e-01 3.48987597e-01\n",
      " 5.69643995e-02 2.28813671e-01 6.64102555e-01 4.97250093e-01\n",
      " 5.19015984e-01 1.74720150e-01 5.70715852e-01 9.96753425e-01\n",
      " 8.16835109e-01 5.94372624e-01 9.75989068e-01 9.01562585e-01\n",
      " 5.95607934e-01 3.24263253e-02 9.35770958e-02 6.53717150e-02\n",
      " 4.51733149e-01 3.75434833e-01 9.75350034e-01 1.67983293e-01\n",
      " 9.72787592e-01 7.67474869e-01 8.24237840e-01 6.32615817e-01\n",
      " 6.68732770e-01 4.76882334e-01 1.31363569e-02 3.53006086e-01\n",
      " 4.92071801e-01 7.30091211e-01 4.68628343e-01 4.57404916e-01\n",
      " 1.37662741e-01 1.08887338e-02 7.58278260e-01 3.19952838e-01\n",
      " 9.84383450e-01 2.20234226e-01 3.38708025e-01 5.23896136e-01\n",
      " 7.54891457e-01 4.63857784e-01 1.24822543e-01 3.12501378e-01\n",
      " 5.04519170e-01 6.73849008e-01 7.70149956e-01 1.30335781e-01\n",
      " 2.29151313e-02 5.19082322e-01 8.09988711e-01 1.26037670e-02\n",
      " 6.72469845e-01 6.86808227e-01 4.49246754e-01 9.14788687e-01\n",
      " 6.44361085e-01 5.23983765e-03 4.84428446e-01 8.59317806e-01\n",
      " 8.30399570e-01 6.49154197e-01 6.73698424e-01 5.78499580e-01\n",
      " 2.74119775e-01 5.60529991e-01 6.71729785e-01 3.52429630e-01\n",
      " 8.55828367e-01 1.95037486e-01 7.47320810e-01 2.89602746e-01\n",
      " 7.73799287e-01 4.27737329e-01 8.07698409e-01 3.53534863e-01\n",
      " 2.13693238e-01 7.67284508e-01 3.08641948e-01 7.33245068e-01\n",
      " 7.44473153e-01 2.21396701e-01 2.14112137e-01 1.98947923e-01\n",
      " 1.42518338e-01 3.77082599e-01 2.66278847e-02 1.10920369e-01\n",
      " 6.74564024e-01 7.99776537e-01 8.05295271e-02 2.31702310e-01\n",
      " 2.07625662e-01 9.17333563e-01 7.11314518e-01 5.53884611e-01\n",
      " 3.04517988e-01 8.34854048e-01 4.35305958e-01 9.23456215e-01\n",
      " 7.06051804e-01 4.78031308e-01 1.26210104e-01 9.76043550e-01\n",
      " 1.59833650e-01 2.02602125e-01 4.31181755e-01 4.04201906e-01\n",
      " 1.46751481e-01 7.29318919e-01 1.88745067e-01 6.43895644e-01\n",
      " 7.54305951e-01 2.10732392e-01 6.00954248e-01 7.48928375e-01\n",
      " 6.38218711e-01 5.97127303e-01 2.95482286e-01 7.31606471e-01\n",
      " 9.45308440e-01 4.25561390e-01 7.82181817e-01 5.61410397e-02\n",
      " 8.35271602e-01 1.92250017e-01 3.95096869e-01 3.00081046e-01\n",
      " 8.01036438e-02 9.04631003e-01 3.70154178e-01 5.30697438e-01\n",
      " 4.94116266e-01 1.32161142e-01 2.06454059e-01 7.61888090e-02\n",
      " 5.07921700e-01 2.61549552e-01 3.57061609e-01 1.08065329e-01\n",
      " 7.87551840e-01 1.06583877e-01 9.85708824e-01 1.77161164e-01\n",
      " 5.72405112e-01 4.48453346e-02 7.87116290e-01 1.89605948e-01\n",
      " 5.27903978e-01 7.40077543e-01 1.49931485e-01 5.51087174e-01\n",
      " 2.16617208e-01 7.59196049e-01 7.22915194e-01 1.76549034e-01\n",
      " 8.61966558e-01 1.97750995e-02 8.60236997e-01 5.58903811e-01\n",
      " 4.03220472e-01 7.58746931e-01 7.16929002e-01 9.87326175e-01\n",
      " 2.78085049e-01 3.79367241e-03 9.33902608e-01 8.57897105e-01\n",
      " 7.28850878e-01 5.16688783e-01 7.06956245e-01 7.80529557e-01\n",
      " 3.74875944e-01 7.70322525e-01 7.50624319e-01 6.13211212e-01\n",
      " 4.01865924e-01 6.97308019e-01 3.11285783e-03 7.74896647e-01\n",
      " 8.96416602e-01 2.39315707e-01 1.20767184e-01 2.20283988e-01\n",
      " 3.02096731e-01 8.83028509e-01 5.43166430e-01 2.86711650e-01\n",
      " 1.38354690e-01 2.90144463e-01 6.13871090e-01 3.24138530e-01\n",
      " 4.57360182e-01 4.44117107e-01 8.28135361e-01 4.26348154e-01\n",
      " 3.45698821e-01 6.74971605e-01 2.21482056e-01 4.67245824e-01\n",
      " 3.14765687e-01 6.26855602e-01 8.77360475e-01 4.47689000e-01\n",
      " 7.84457419e-01 4.56965701e-01 6.56229332e-01 1.31840975e-01\n",
      " 4.32981507e-01 9.09311989e-01 6.05479001e-01 7.66774587e-01\n",
      " 5.04700608e-01 4.98055625e-01 8.42899840e-01 6.78069343e-02\n",
      " 5.73272272e-01 9.42762575e-01 5.17860048e-01 1.94465810e-01\n",
      " 8.47939392e-01 2.51639142e-01 7.00726036e-01 5.40260940e-01\n",
      " 9.48836288e-01 6.24336702e-01 8.37977962e-01 7.93287619e-03\n",
      " 9.89340056e-01 7.77145703e-02 3.22129514e-01 9.46152395e-01\n",
      " 8.93910237e-03 8.22730005e-01 8.61211638e-01 4.39830814e-01\n",
      " 2.55745194e-01 8.02689520e-01 4.77862004e-01 1.34338609e-01\n",
      " 9.27848993e-01 8.95969967e-01 4.91545150e-01 8.56702497e-01\n",
      " 4.18578026e-01 6.83464900e-01 3.97990639e-01 5.05742017e-01\n",
      " 1.89551703e-01 9.64988924e-01 2.94215688e-01 1.03459556e-01\n",
      " 1.44315400e-01 1.40922942e-02 7.15945699e-01 5.64498320e-01\n",
      " 7.94578351e-01 5.07079923e-01 7.91821040e-01 6.95764214e-01\n",
      " 7.77848477e-01 4.06482869e-01 6.47770633e-01 1.79794298e-01\n",
      " 3.21819963e-01 1.72604620e-01 4.08637225e-01 2.41418748e-01\n",
      " 4.06921994e-01 9.75222342e-01 3.20319326e-01 9.82490945e-01\n",
      " 6.36306126e-01 3.75091018e-01 8.57484499e-01 6.19586739e-01\n",
      " 2.52033080e-01 7.92855678e-01 4.32938509e-01 3.57511167e-01\n",
      " 3.30276937e-01 6.97368876e-01 2.68650124e-01 8.08278014e-01\n",
      " 2.95288794e-01 5.44121384e-01 4.87921492e-01 8.55356413e-01\n",
      " 8.88386434e-01 1.84384442e-01 5.85348459e-01 8.98205046e-01\n",
      " 4.46117219e-01 9.21868305e-01 2.78990890e-01 6.08831174e-01\n",
      " 6.82453710e-01 2.28205733e-01 1.37675126e-02 4.16723962e-01\n",
      " 9.38481892e-01 3.43028110e-01 7.79744295e-01 1.74736313e-01\n",
      " 3.41952836e-01 1.44597721e-01 7.16770814e-01 6.99307624e-01\n",
      " 6.88497318e-01 2.53396034e-01 6.92360122e-01 2.27297541e-01\n",
      " 4.24649116e-01 3.71922122e-01 3.55307912e-01 5.76548072e-02\n",
      " 6.31646627e-01 7.07316603e-01 6.13588695e-01 6.48312756e-01\n",
      " 1.69940714e-01 1.49446799e-01 5.14175044e-01 8.75332726e-01\n",
      " 1.83953442e-01 4.62839119e-01 4.28932334e-01 4.97289186e-01\n",
      " 1.61510770e-01 3.42440641e-01 2.61880404e-01 8.44526943e-01\n",
      " 8.00332246e-01 4.26639158e-01 6.07015461e-01 1.45465610e-01\n",
      " 5.09613294e-01 2.96947086e-01 8.59650954e-01 6.71598381e-01\n",
      " 6.33474013e-01 1.24751300e-01 4.70587879e-01 9.86572780e-01\n",
      " 9.48299174e-01 6.45085640e-01 1.51724871e-01 6.39126849e-01\n",
      " 5.65662113e-01 4.68665838e-01 4.28037469e-01 5.99269756e-01\n",
      " 8.49969889e-01 7.51121040e-01 5.79360540e-01 9.24704182e-01\n",
      " 6.47399834e-02 9.91346509e-01 5.29945427e-02 1.99495546e-01\n",
      " 4.22752662e-01 1.07508876e-01 6.23670411e-01 4.79925640e-02\n",
      " 2.84623881e-01 6.10366811e-02 7.03519331e-01 6.68456168e-01\n",
      " 3.78580593e-01 1.88194260e-01 7.47004829e-01 3.40379291e-01\n",
      " 7.95301167e-01 4.87900939e-01 5.25669444e-01 2.84908495e-02\n",
      " 6.44232020e-01 3.50656502e-01 2.29205027e-01 4.33883376e-01\n",
      " 3.82467457e-01 4.69789040e-01 9.79483354e-01 3.64378070e-01\n",
      " 7.74410133e-01 5.52767597e-01 8.89131089e-01 3.54952851e-01\n",
      " 2.45518680e-01 9.11019240e-01 4.35342638e-02 9.50753428e-01\n",
      " 5.56406916e-01 3.76363217e-01 9.95052322e-01 5.83626461e-02\n",
      " 5.16706360e-01 3.10970755e-02 5.71175739e-01 1.80468509e-01\n",
      " 6.30959200e-01 9.80923676e-01 8.74902551e-01 4.51836249e-01\n",
      " 7.08460870e-01 7.77468750e-01 4.94843084e-01 5.28533490e-01\n",
      " 1.50784398e-01 3.69399926e-01 1.42221253e-01 7.26893753e-01\n",
      " 4.77012994e-01 4.48878837e-01 8.85997971e-01 5.27618772e-01\n",
      " 4.09090832e-01 2.68892022e-01 7.20120352e-02 4.18136134e-01\n",
      " 2.57534824e-02 2.91153941e-01 5.03509510e-01 9.65933065e-01\n",
      " 1.09382914e-01 6.73041054e-01 4.99932371e-01 7.77098229e-01\n",
      " 1.43606998e-01 8.32026364e-02 3.99218605e-01 7.96962252e-01\n",
      " 1.91675739e-01 7.67777192e-01 2.90297997e-01 2.16891488e-01\n",
      " 1.67155891e-02 3.98659060e-01 3.81081491e-01 6.59344936e-01\n",
      " 7.09184005e-02 1.52603987e-01 1.65758829e-02 1.13796356e-01\n",
      " 6.51789276e-01 4.02656852e-01 3.21026314e-01 5.57911994e-01\n",
      " 9.93460463e-01 8.34486514e-01 6.99623182e-01 9.18258589e-01\n",
      " 3.97287067e-02 7.03334416e-02 4.74006290e-01 3.49167413e-01\n",
      " 9.37252062e-01 4.89564961e-01 5.39649110e-01 8.95260366e-01\n",
      " 4.46635046e-01 8.77034389e-01 2.53581749e-01 2.73809704e-01\n",
      " 3.28361390e-01 5.47564270e-01 2.20128674e-01 6.71429171e-01\n",
      " 1.42793283e-01 9.41002745e-02 8.70191746e-01 2.36868704e-01\n",
      " 3.86004011e-01 5.71542093e-01 5.25801970e-01 7.60238794e-02\n",
      " 8.74125936e-01 9.51135618e-01 8.12507304e-01 2.83801835e-01\n",
      " 5.27846796e-01 3.39416724e-01 5.54667311e-01 9.74403469e-01\n",
      " 3.11702918e-01 6.68796606e-01 3.25967207e-01 7.74477266e-01]\n",
      "(1000, 10)\n",
      "(1000,)\n"
     ]
    },
    {
     "ename": "AssertionError",
     "evalue": "",
     "output_type": "error",
     "traceback": [
      "\u001b[1;31m---------------------------------------------------------------------------\u001b[0m",
      "\u001b[1;31mAssertionError\u001b[0m                            Traceback (most recent call last)",
      "\u001b[1;32m<ipython-input-31-388259fc9f9e>\u001b[0m in \u001b[0;36m<module>\u001b[1;34m()\u001b[0m\n\u001b[0;32m      5\u001b[0m \u001b[0mprint\u001b[0m\u001b[1;33m(\u001b[0m\u001b[0mmodel1\u001b[0m\u001b[1;33m.\u001b[0m\u001b[0mw\u001b[0m\u001b[1;33m)\u001b[0m\u001b[1;33m\u001b[0m\u001b[0m\n\u001b[0;32m      6\u001b[0m \u001b[1;31m# Fit Model\u001b[0m\u001b[1;33m\u001b[0m\u001b[1;33m\u001b[0m\u001b[0m\n\u001b[1;32m----> 7\u001b[1;33m \u001b[0mfit\u001b[0m \u001b[1;33m=\u001b[0m \u001b[0mmodel1\u001b[0m\u001b[1;33m.\u001b[0m\u001b[0mfit\u001b[0m\u001b[1;33m(\u001b[0m\u001b[1;33m)\u001b[0m\u001b[1;33m\u001b[0m\u001b[0m\n\u001b[0m\u001b[0;32m      8\u001b[0m \u001b[1;33m\u001b[0m\u001b[0m\n\u001b[0;32m      9\u001b[0m \u001b[1;31m# Make Predictions\u001b[0m\u001b[1;33m\u001b[0m\u001b[1;33m\u001b[0m\u001b[0m\n",
      "\u001b[1;32m<ipython-input-30-2126073aa10e>\u001b[0m in \u001b[0;36mfit\u001b[1;34m(self, verbose)\u001b[0m\n\u001b[0;32m    154\u001b[0m \u001b[1;33m\u001b[0m\u001b[0m\n\u001b[0;32m    155\u001b[0m             \u001b[1;31m# Step 2: Calculate the gradient\u001b[0m\u001b[1;33m\u001b[0m\u001b[1;33m\u001b[0m\u001b[0m\n\u001b[1;32m--> 156\u001b[1;33m             \u001b[0mdJ_dw\u001b[0m \u001b[1;33m=\u001b[0m \u001b[0mself\u001b[0m\u001b[1;33m.\u001b[0m\u001b[0m_calc_dJ_dw\u001b[0m\u001b[1;33m(\u001b[0m\u001b[0mself\u001b[0m\u001b[1;33m.\u001b[0m\u001b[0mX\u001b[0m\u001b[1;33m,\u001b[0m \u001b[0mself\u001b[0m\u001b[1;33m.\u001b[0m\u001b[0my\u001b[0m\u001b[1;33m,\u001b[0m \u001b[0mself\u001b[0m\u001b[1;33m.\u001b[0m\u001b[0mw\u001b[0m\u001b[1;33m)\u001b[0m\u001b[1;33m\u001b[0m\u001b[0m\n\u001b[0m\u001b[0;32m    157\u001b[0m \u001b[1;33m\u001b[0m\u001b[0m\n\u001b[0;32m    158\u001b[0m             \u001b[1;31m# Step 3: Update w\u001b[0m\u001b[1;33m\u001b[0m\u001b[1;33m\u001b[0m\u001b[0m\n",
      "\u001b[1;32m<ipython-input-30-2126073aa10e>\u001b[0m in \u001b[0;36m_calc_dJ_dw\u001b[1;34m(self, X, y, w)\u001b[0m\n\u001b[0;32m     47\u001b[0m         '''\n\u001b[0;32m     48\u001b[0m         \u001b[0mm\u001b[0m \u001b[1;33m=\u001b[0m \u001b[0mlen\u001b[0m\u001b[1;33m(\u001b[0m\u001b[0my\u001b[0m\u001b[1;33m)\u001b[0m\u001b[1;33m\u001b[0m\u001b[0m\n\u001b[1;32m---> 49\u001b[1;33m         \u001b[0mypred\u001b[0m \u001b[1;33m=\u001b[0m \u001b[0mself\u001b[0m\u001b[1;33m.\u001b[0m\u001b[0mpredict\u001b[0m\u001b[1;33m(\u001b[0m\u001b[0mX\u001b[0m\u001b[1;33m,\u001b[0m \u001b[0mw\u001b[0m\u001b[1;33m)\u001b[0m\u001b[1;33m\u001b[0m\u001b[0m\n\u001b[0m\u001b[0;32m     50\u001b[0m         \u001b[0mdJ_dw\u001b[0m \u001b[1;33m=\u001b[0m \u001b[0mnp\u001b[0m\u001b[1;33m.\u001b[0m\u001b[0mdot\u001b[0m\u001b[1;33m(\u001b[0m\u001b[0mX\u001b[0m\u001b[1;33m.\u001b[0m\u001b[0mT\u001b[0m\u001b[1;33m,\u001b[0m \u001b[1;33m(\u001b[0m\u001b[0mypred\u001b[0m \u001b[1;33m-\u001b[0m \u001b[0my\u001b[0m\u001b[1;33m)\u001b[0m\u001b[1;33m)\u001b[0m \u001b[1;33m/\u001b[0m \u001b[0my\u001b[0m\u001b[1;33m.\u001b[0m\u001b[0mshape\u001b[0m\u001b[1;33m[\u001b[0m\u001b[1;36m0\u001b[0m\u001b[1;33m]\u001b[0m\u001b[1;33m\u001b[0m\u001b[0m\n\u001b[0;32m     51\u001b[0m         \u001b[1;31m# Check that dJ_dw has the right shape\u001b[0m\u001b[1;33m\u001b[0m\u001b[1;33m\u001b[0m\u001b[0m\n",
      "\u001b[1;32m<ipython-input-30-2126073aa10e>\u001b[0m in \u001b[0;36mpredict\u001b[1;34m(self, X, w)\u001b[0m\n\u001b[0;32m    123\u001b[0m         \u001b[0mprint\u001b[0m\u001b[1;33m(\u001b[0m\u001b[0mX\u001b[0m\u001b[1;33m.\u001b[0m\u001b[0mshape\u001b[0m\u001b[1;33m)\u001b[0m\u001b[1;33m\u001b[0m\u001b[0m\n\u001b[0;32m    124\u001b[0m         \u001b[0mprint\u001b[0m\u001b[1;33m(\u001b[0m\u001b[0mw\u001b[0m\u001b[1;33m.\u001b[0m\u001b[0mshape\u001b[0m\u001b[1;33m)\u001b[0m\u001b[1;33m\u001b[0m\u001b[0m\n\u001b[1;32m--> 125\u001b[1;33m         \u001b[1;32massert\u001b[0m \u001b[0mX\u001b[0m\u001b[1;33m.\u001b[0m\u001b[0mshape\u001b[0m\u001b[1;33m[\u001b[0m\u001b[1;36m1\u001b[0m\u001b[1;33m]\u001b[0m \u001b[1;33m==\u001b[0m \u001b[0mlen\u001b[0m\u001b[1;33m(\u001b[0m\u001b[0mw\u001b[0m\u001b[1;33m)\u001b[0m\u001b[1;33m\u001b[0m\u001b[0m\n\u001b[0m\u001b[0;32m    126\u001b[0m         \u001b[0mypred\u001b[0m \u001b[1;33m=\u001b[0m \u001b[0mself\u001b[0m\u001b[1;33m.\u001b[0m\u001b[0m_sigmoid\u001b[0m\u001b[1;33m(\u001b[0m\u001b[0mnp\u001b[0m\u001b[1;33m.\u001b[0m\u001b[0mdot\u001b[0m\u001b[1;33m(\u001b[0m\u001b[0mX\u001b[0m\u001b[1;33m,\u001b[0m\u001b[0mw\u001b[0m\u001b[1;33m)\u001b[0m\u001b[1;33m)\u001b[0m\u001b[1;33m\u001b[0m\u001b[0m\n\u001b[0;32m    127\u001b[0m         \u001b[1;31m# Check that the number of predictions made is equal to the number of samples in X\u001b[0m\u001b[1;33m\u001b[0m\u001b[1;33m\u001b[0m\u001b[0m\n",
      "\u001b[1;31mAssertionError\u001b[0m: "
     ]
    }
   ],
   "source": [
    "# Edit the commands below as required\n",
    "\n",
    "# Initialse Model\n",
    "model1 = LogisticRegression(df,0.01)\n",
    "print(model1.w)\n",
    "# Fit Model\n",
    "fit = model1.fit()\n",
    "\n",
    "# Make Predictions\n",
    "#??? = ???.predict(???)"
   ]
  },
  {
   "cell_type": "code",
   "execution_count": null,
   "metadata": {},
   "outputs": [],
   "source": [
    "print(classification_report(y, y_pred))"
   ]
  },
  {
   "cell_type": "markdown",
   "metadata": {},
   "source": [
    "## 3. Logistic Regression using sklearn Package (easy ML)"
   ]
  },
  {
   "cell_type": "code",
   "execution_count": null,
   "metadata": {},
   "outputs": [],
   "source": [
    "import numpy as np\n",
    "from sklearn.linear_model import LogisticRegression\n",
    "from sklearn.datasets import make_classification\n",
    "import matplotlib.pyplot as plt"
   ]
  },
  {
   "cell_type": "code",
   "execution_count": null,
   "metadata": {},
   "outputs": [],
   "source": [
    "X, y = make_classification(200, 2, 2, 0, weights=[.5, .5], random_state=15)\n",
    "clf = LogisticRegression().fit(X[:100], y[:100])"
   ]
  },
  {
   "cell_type": "code",
   "execution_count": null,
   "metadata": {},
   "outputs": [],
   "source": [
    "xx, yy = np.mgrid[-5:5:.01, -5:5:.01]\n",
    "grid = np.c_[xx.ravel(), yy.ravel()]\n",
    "probs = clf.predict_proba(grid)[:, 1].reshape(xx.shape)"
   ]
  },
  {
   "cell_type": "code",
   "execution_count": null,
   "metadata": {},
   "outputs": [],
   "source": [
    "f, ax = plt.subplots(figsize=(8, 6))\n",
    "contour = ax.contourf(xx, yy, probs, 25, cmap=\"RdBu\",\n",
    "                      vmin=0, vmax=1)\n",
    "ax_c = f.colorbar(contour)\n",
    "ax_c.set_label(\"$P(y = 1)$\")\n",
    "ax_c.set_ticks([0, .25, .5, .75, 1])\n",
    "\n",
    "ax.scatter(X[:,0], X[:, 1], c=y[:], s=50,\n",
    "           cmap=\"RdBu\", vmin=-.2, vmax=1.2,\n",
    "           edgecolor=\"white\", linewidth=1)\n",
    "\n",
    "ax.set(aspect=\"equal\",\n",
    "       xlim=(-5, 5), ylim=(-5, 5),\n",
    "       xlabel=\"$X_1$\", ylabel=\"$X_2$\")"
   ]
  },
  {
   "cell_type": "markdown",
   "metadata": {},
   "source": [
    "The above figure illustrates the decision boundary for separating between class=1 (prob >= 0.5) and class=0 (prob < 0). "
   ]
  },
  {
   "cell_type": "code",
   "execution_count": null,
   "metadata": {},
   "outputs": [],
   "source": []
  }
 ],
 "metadata": {
  "colab": {
   "collapsed_sections": [],
   "name": "Logistic Regession.ipynb",
   "provenance": [],
   "version": "0.3.2"
  },
  "kernelspec": {
   "display_name": "Python 3",
   "language": "python",
   "name": "python3"
  },
  "language_info": {
   "codemirror_mode": {
    "name": "ipython",
    "version": 3
   },
   "file_extension": ".py",
   "mimetype": "text/x-python",
   "name": "python",
   "nbconvert_exporter": "python",
   "pygments_lexer": "ipython3",
   "version": "3.6.6"
  }
 },
 "nbformat": 4,
 "nbformat_minor": 1
}
