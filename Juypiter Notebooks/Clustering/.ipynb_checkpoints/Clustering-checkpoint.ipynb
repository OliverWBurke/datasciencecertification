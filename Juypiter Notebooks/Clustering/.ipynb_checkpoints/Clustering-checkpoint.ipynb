{
 "cells": [
  {
   "cell_type": "code",
   "execution_count": 48,
   "metadata": {},
   "outputs": [],
   "source": [
    "def features(data):\n",
    "    data['Distance'] = data.apply(lambda x: x['rideDistance'] + x['swimDistance'] + x['walkDistance'], axis=1)\n",
    "    data = data[['damageDealt','kills','rideDistance','swimDistance','walkDistance','Distance','winPlacePerc']]\n",
    "    #data = data[['damageDealt','Distance','winPlacePerc']]\n",
    "    return data"
   ]
  },
  {
   "cell_type": "code",
   "execution_count": 49,
   "metadata": {},
   "outputs": [],
   "source": [
    "import pandas as pd\n",
    "from sklearn.cluster import KMeans\n",
    "from IPython.display import display\n",
    "import matplotlib.pyplot as plt\n",
    "import seaborn as sns\n",
    "from sklearn.preprocessing import RobustScaler\n",
    "pd.options.display.max_columns = None"
   ]
  },
  {
   "cell_type": "code",
   "execution_count": 50,
   "metadata": {},
   "outputs": [],
   "source": [
    "data = pd.read_csv('train_V2.csv')\n",
    "#data = data.sample(10000)\n",
    "data = features(data)\n",
    "\n",
    "\n",
    "\n",
    "scaling = RobustScaler()\n",
    "data = scaling.fit_transform(data)"
   ]
  },
  {
   "cell_type": "code",
   "execution_count": 51,
   "metadata": {},
   "outputs": [
    {
     "data": {
      "text/html": [
       "<div>\n",
       "<style scoped>\n",
       "    .dataframe tbody tr th:only-of-type {\n",
       "        vertical-align: middle;\n",
       "    }\n",
       "\n",
       "    .dataframe tbody tr th {\n",
       "        vertical-align: top;\n",
       "    }\n",
       "\n",
       "    .dataframe thead th {\n",
       "        text-align: right;\n",
       "    }\n",
       "</style>\n",
       "<table border=\"1\" class=\"dataframe\">\n",
       "  <thead>\n",
       "    <tr style=\"text-align: right;\">\n",
       "      <th></th>\n",
       "      <th>damageDealt</th>\n",
       "      <th>kills</th>\n",
       "      <th>rideDistance</th>\n",
       "      <th>swimDistance</th>\n",
       "      <th>walkDistance</th>\n",
       "      <th>Distance</th>\n",
       "      <th>winPlacePerc</th>\n",
       "    </tr>\n",
       "  </thead>\n",
       "  <tbody>\n",
       "    <tr>\n",
       "      <th>count</th>\n",
       "      <td>10000.000000</td>\n",
       "      <td>10000.00000</td>\n",
       "      <td>10000.000000</td>\n",
       "      <td>10000.000000</td>\n",
       "      <td>10000.000000</td>\n",
       "      <td>10000.000000</td>\n",
       "      <td>1.000000e+04</td>\n",
       "    </tr>\n",
       "    <tr>\n",
       "      <th>mean</th>\n",
       "      <td>0.237015</td>\n",
       "      <td>0.94410</td>\n",
       "      <td>8.271427</td>\n",
       "      <td>4.914194</td>\n",
       "      <td>0.255721</td>\n",
       "      <td>0.370097</td>\n",
       "      <td>2.532873e-02</td>\n",
       "    </tr>\n",
       "    <tr>\n",
       "      <th>std</th>\n",
       "      <td>0.930424</td>\n",
       "      <td>1.62943</td>\n",
       "      <td>19.893913</td>\n",
       "      <td>33.277955</td>\n",
       "      <td>0.638185</td>\n",
       "      <td>0.821209</td>\n",
       "      <td>5.702366e-01</td>\n",
       "    </tr>\n",
       "    <tr>\n",
       "      <th>min</th>\n",
       "      <td>-0.470899</td>\n",
       "      <td>0.00000</td>\n",
       "      <td>0.000000</td>\n",
       "      <td>0.000000</td>\n",
       "      <td>-0.374377</td>\n",
       "      <td>-0.303643</td>\n",
       "      <td>-8.652125e-01</td>\n",
       "    </tr>\n",
       "    <tr>\n",
       "      <th>25%</th>\n",
       "      <td>-0.470899</td>\n",
       "      <td>0.00000</td>\n",
       "      <td>0.000000</td>\n",
       "      <td>0.000000</td>\n",
       "      <td>-0.289874</td>\n",
       "      <td>-0.243618</td>\n",
       "      <td>-4.768829e-01</td>\n",
       "    </tr>\n",
       "    <tr>\n",
       "      <th>50%</th>\n",
       "      <td>0.000000</td>\n",
       "      <td>0.00000</td>\n",
       "      <td>0.000000</td>\n",
       "      <td>0.000000</td>\n",
       "      <td>0.000000</td>\n",
       "      <td>0.000000</td>\n",
       "      <td>5.174355e-17</td>\n",
       "    </tr>\n",
       "    <tr>\n",
       "      <th>75%</th>\n",
       "      <td>0.529101</td>\n",
       "      <td>1.00000</td>\n",
       "      <td>1.000000</td>\n",
       "      <td>0.000000</td>\n",
       "      <td>0.710126</td>\n",
       "      <td>0.756382</td>\n",
       "      <td>5.231171e-01</td>\n",
       "    </tr>\n",
       "    <tr>\n",
       "      <th>max</th>\n",
       "      <td>22.555556</td>\n",
       "      <td>43.00000</td>\n",
       "      <td>254.405724</td>\n",
       "      <td>926.300000</td>\n",
       "      <td>4.757751</td>\n",
       "      <td>7.629310</td>\n",
       "      <td>9.990679e-01</td>\n",
       "    </tr>\n",
       "  </tbody>\n",
       "</table>\n",
       "</div>"
      ],
      "text/plain": [
       "        damageDealt        kills  rideDistance  swimDistance  walkDistance  \\\n",
       "count  10000.000000  10000.00000  10000.000000  10000.000000  10000.000000   \n",
       "mean       0.237015      0.94410      8.271427      4.914194      0.255721   \n",
       "std        0.930424      1.62943     19.893913     33.277955      0.638185   \n",
       "min       -0.470899      0.00000      0.000000      0.000000     -0.374377   \n",
       "25%       -0.470899      0.00000      0.000000      0.000000     -0.289874   \n",
       "50%        0.000000      0.00000      0.000000      0.000000      0.000000   \n",
       "75%        0.529101      1.00000      1.000000      0.000000      0.710126   \n",
       "max       22.555556     43.00000    254.405724    926.300000      4.757751   \n",
       "\n",
       "           Distance  winPlacePerc  \n",
       "count  10000.000000  1.000000e+04  \n",
       "mean       0.370097  2.532873e-02  \n",
       "std        0.821209  5.702366e-01  \n",
       "min       -0.303643 -8.652125e-01  \n",
       "25%       -0.243618 -4.768829e-01  \n",
       "50%        0.000000  5.174355e-17  \n",
       "75%        0.756382  5.231171e-01  \n",
       "max        7.629310  9.990679e-01  "
      ]
     },
     "execution_count": 51,
     "metadata": {},
     "output_type": "execute_result"
    }
   ],
   "source": [
    "data = pd.DataFrame(data,columns=['damageDealt','kills','rideDistance','swimDistance','walkDistance','Distance','winPlacePerc'])\n",
    "data.describe()"
   ]
  },
  {
   "cell_type": "code",
   "execution_count": 52,
   "metadata": {},
   "outputs": [
    {
     "data": {
      "text/plain": [
       "<matplotlib.axes._subplots.AxesSubplot at 0x6c2644cda0>"
      ]
     },
     "execution_count": 52,
     "metadata": {},
     "output_type": "execute_result"
    },
    {
     "data": {
      "image/png": "[encoded data removed]",
      "text/plain": [
       "<Figure size 432x288 with 2 Axes>"
      ]
     },
     "metadata": {},
     "output_type": "display_data"
    }
   ],
   "source": [
    "\n",
    "cor = data.corr() #Calculate the correlation of the above variables\n",
    "sns.heatmap(cor, square = True) #Plot the correlation as heat map"
   ]
  },
  {
   "cell_type": "code",
   "execution_count": 53,
   "metadata": {},
   "outputs": [],
   "source": [
    "km_cluster = KMeans(n_clusters=6)\n",
    "km_cluster_predictions = km_cluster.fit_predict(X=data)"
   ]
  },
  {
   "cell_type": "code",
   "execution_count": 55,
   "metadata": {},
   "outputs": [
    {
     "name": "stdout",
     "output_type": "stream",
     "text": [
      "[0 0 0 ... 0 4 0]\n"
     ]
    }
   ],
   "source": [
    "print(km_cluster_predictions)"
   ]
  },
  {
   "cell_type": "code",
   "execution_count": 56,
   "metadata": {},
   "outputs": [
    {
     "data": {
      "text/plain": [
       "(array([8179.,    0.,   61.,    0., 1062.,    0.,   10.,    0.,  221.,\n",
       "         467.]),\n",
       " array([0. , 0.5, 1. , 1.5, 2. , 2.5, 3. , 3.5, 4. , 4.5, 5. ]),\n",
       " <a list of 10 Patch objects>)"
      ]
     },
     "execution_count": 56,
     "metadata": {},
     "output_type": "execute_result"
    },
    {
     "data": {
      "image/png": "[encoded data removed]",
      "text/plain": [
       "<Figure size 432x288 with 1 Axes>"
      ]
     },
     "metadata": {},
     "output_type": "display_data"
    }
   ],
   "source": [
    "plt.hist(km_cluster_predictions)"
   ]
  },
  {
   "cell_type": "code",
   "execution_count": null,
   "metadata": {},
   "outputs": [],
   "source": []
  },
  {
   "cell_type": "code",
   "execution_count": null,
   "metadata": {},
   "outputs": [],
   "source": []
  },
  {
   "cell_type": "code",
   "execution_count": null,
   "metadata": {},
   "outputs": [],
   "source": []
  }
 ],
 "metadata": {
  "kernelspec": {
   "display_name": "Python 3",
   "language": "python",
   "name": "python3"
  },
  "language_info": {
   "codemirror_mode": {
    "name": "ipython",
    "version": 3
   },
   "file_extension": ".py",
   "mimetype": "text/x-python",
   "name": "python",
   "nbconvert_exporter": "python",
   "pygments_lexer": "ipython3",
   "version": "3.6.6"
  }
 },
 "nbformat": 4,
 "nbformat_minor": 2
}
