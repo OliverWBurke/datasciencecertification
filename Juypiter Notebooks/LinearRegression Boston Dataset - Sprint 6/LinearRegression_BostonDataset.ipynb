{
 "cells": [
  {
   "cell_type": "markdown",
   "metadata": {},
   "source": [
    "# Preliminary Questions:\n",
    "\n",
    "### What is the purpose of splitting your data into training, validation and test sets?\n",
    "\n",
    "Training data will allow us to build up the model\n",
    "Validation set will allow us to take the model and tune it, for example setting parameters on regularsation lamda\n",
    "Test data set will allows us to check that the model performs well on a dataset that it has not seen before. The training set should follow the same general distribution of the training set\n",
    "\n",
    "### What is the cost function for linear regression? \n",
    "\n",
    "J(theta) = 1/2m SUM( (predicted-Y - Y )^2  )\n",
    "where predicted-y = Theta0 + Theta1X1 + Theta2X2 ...\n",
    "\n",
    "### How would you modify the cost function for linear regression to use regularisation?\n",
    "\n",
    "J(theta) = 1/2m SUM( (predicted-Y - Y )^2  + 1/mLamda(SUM (from j=1>m (Thetaj^2)))\n",
    "Where lamda = Regularisation Parameter\n",
    "Could use ABS(Thetaj) rather than (ThetaJ)^2 \n",
    "\n",
    "\n",
    "### How does the size of the regularisation parameter impact your model?\n",
    "\n",
    "Larger regularisation parameter will mean that the theta parameter weights will be smaller\n",
    "\n",
    "### What metric should you use to evaluate the accuracy of a linear regression model?\n",
    "\n",
    "Value of the Minimised cost function"
   ]
  },
  {
   "cell_type": "markdown",
   "metadata": {},
   "source": [
    "# Data Import And Initial Investigation"
   ]
  },
  {
   "cell_type": "code",
   "execution_count": null,
   "metadata": {},
   "outputs": [],
   "source": [
    "from sklearn.datasets import load_boston\n",
    "import numpy as np\n",
    "import pandas as pd\n",
    "import matplotlib.pyplot as plt\n",
    "\n",
    "boston = load_boston()\n",
    "\n",
    "#print(boston)"
   ]
  },
  {
   "cell_type": "code",
   "execution_count": null,
   "metadata": {},
   "outputs": [],
   "source": [
    "boston.keys()"
   ]
  },
  {
   "cell_type": "code",
   "execution_count": null,
   "metadata": {
    "scrolled": true
   },
   "outputs": [],
   "source": [
    "boston.DESCR"
   ]
  },
  {
   "cell_type": "markdown",
   "metadata": {},
   "source": [
    "- CRIM     per capita crime rate by town\n",
    "- ZN       proportion of residential land zoned for lots over 25,000 sq.ft.\n",
    "- INDUS    proportion of non-retail business acres per town\n",
    "- CHAS     Charles River dummy variable (= 1 if tract bounds river; 0 otherwise)\n",
    "- NOX      nitric oxides concentration (parts per 10 million)\n",
    "- RM       average number of rooms per dwelling\n",
    "- AGE      proportion of owner-occupied units built prior to 1940\n",
    "- DIS      weighted distances to five Boston employment centres\n",
    "- RAD      index of accessibility to radial highways\n",
    "- TAX      full-value property-tax rate per 10,000usd\n",
    "- PTRATIO  pupil-teacher ratio by town\n",
    "- B        1000(Bk - 0.63)^2 where Bk is the proportion of blacks by town\n",
    "- LSTAT    % lower status of the population\n",
    "- MEDV     Median value of owner-occupied homes in 1000usd"
   ]
  },
  {
   "cell_type": "code",
   "execution_count": null,
   "metadata": {},
   "outputs": [],
   "source": [
    "y = boston.target\n",
    "X = boston.data\n",
    "X.shape\n",
    "#print(Y)"
   ]
  },
  {
   "cell_type": "code",
   "execution_count": null,
   "metadata": {},
   "outputs": [],
   "source": [
    "data   = pd.DataFrame(boston.data, columns = boston.feature_names)\n",
    "target = pd.DataFrame(boston.target)\n",
    "\n",
    "data['TARGET'] = target\n",
    "\n",
    "data.head()\n"
   ]
  },
  {
   "cell_type": "code",
   "execution_count": null,
   "metadata": {},
   "outputs": [],
   "source": [
    "data.describe()"
   ]
  },
  {
   "cell_type": "code",
   "execution_count": null,
   "metadata": {},
   "outputs": [],
   "source": [
    "np.sum(data.isnull(), axis = 0)"
   ]
  },
  {
   "cell_type": "code",
   "execution_count": null,
   "metadata": {},
   "outputs": [],
   "source": [
    "for i in boston.feature_names:\n",
    "    plt.hist(data[i])\n",
    "    plt.title(i)\n",
    "    plt.show()\n",
    "    plt.boxplot(data[i])\n",
    "    plt.title(i)\n",
    "    plt.show()\n",
    "    plt.scatter(data[i], data['TARGET'])\n",
    "    plt.title(i)\n",
    "    plt.show()"
   ]
  },
  {
   "cell_type": "markdown",
   "metadata": {},
   "source": [
    "# Initial Predicition with raw data"
   ]
  },
  {
   "cell_type": "code",
   "execution_count": null,
   "metadata": {},
   "outputs": [],
   "source": [
    "from sklearn.model_selection import train_test_split\n",
    " \n",
    " \n",
    " \n",
    " \n",
    "# Split into training and testing datasets\n",
    "# The random_state=0 kwarg ensures that the split is performed in a consistent manner between runs\n",
    "X_train, X_test, y_train, y_test = train_test_split(X, y, random_state=0, test_size=0.2)\n",
    "\n",
    "print(X.shape)\n",
    "print(X_train.shape)\n",
    "print(X_test.shape)\n",
    "print(y.shape)\n",
    "print(y_train.shape)\n",
    "print(y_test.shape)\n"
   ]
  },
  {
   "cell_type": "code",
   "execution_count": null,
   "metadata": {},
   "outputs": [],
   "source": [
    "from sklearn.linear_model import LinearRegression\n",
    "from sklearn.metrics import mean_squared_error\n",
    "model = LinearRegression()\n",
    " \n",
    "# Fit training set\n",
    "model.fit(X_train, y_train)\n",
    "\n",
    "# Predict on test set\n",
    "y_pred = model.predict(X_test)\n",
    " \n",
    " \n",
    "# Prediction metric\n",
    "rmse = np.sqrt(mean_squared_error(y_test, y_pred))\n",
    "print(rmse)"
   ]
  },
  {
   "cell_type": "code",
   "execution_count": null,
   "metadata": {},
   "outputs": [],
   "source": [
    "# Scatter plot\n",
    "plt.scatter(y_test, y_pred)\n",
    "plt.xlabel('true price')\n",
    "plt.ylabel('predicted price')\n",
    "plt.title('Boston house price prediction with linear regression model')\n",
    "plt.show()\n",
    " \n",
    "# Distribution of errors\n",
    "plt.hist(y_pred - y_test,bins = range(-20,11,1))\n",
    "plt.xlabel('difference in true and predicted price')\n",
    "plt.show()"
   ]
  },
  {
   "cell_type": "markdown",
   "metadata": {},
   "source": [
    "# Feature Engineering"
   ]
  },
  {
   "cell_type": "code",
   "execution_count": null,
   "metadata": {},
   "outputs": [],
   "source": [
    "X_engineered_train, X_test, y_engineered_train, y_test = train_test_split(engineered_X, engineered_y, random_state=0, test_size=0.2)\n",
    "\n",
    "X_engineered_train = pd.DataFrame(X_engineered_train ,columns = boston.feature_names )\n",
    "X_test             = pd.DataFrame(X_test             ,columns = boston.feature_names )\n",
    "\n",
    "#X_engineered_train = X_engineered_train.drop(columns =['CRIM'])\n",
    "#y_engineered_train = y_engineered_train.drop(columns =['CRIM'])\n",
    "#print(X_engineered_train)\n",
    "\n",
    "from sklearn import preprocessing\n",
    "\n",
    "\n",
    "#max_abs_scaler = preprocessing.MaxAbsScaler()\n",
    "#X_engineered_train = preprocessing.robust_scale(X_engineered_train)\n",
    "\n",
    "\n",
    "\n",
    "\n"
   ]
  },
  {
   "cell_type": "code",
   "execution_count": null,
   "metadata": {},
   "outputs": [],
   "source": [
    " \n",
    " \n",
    "# Split into training and testing datasets\n",
    "# The random_state=0 kwarg ensures that the split is performed in a consistent manner between runs\n",
    "\n",
    "model = LinearRegression()\n",
    " \n",
    "# Fit training set\n",
    "model.fit(X_engineered_train, y_engineered_train)\n",
    "\n",
    "# Predict on test set\n",
    "y_pred = model.predict(X_test)\n",
    " \n",
    " \n",
    "# Prediction metric\n",
    "rmse = np.sqrt(mean_squared_error(y_test, y_pred))\n",
    "print(rmse)\n",
    "\n",
    "# Scatter plot\n",
    "plt.scatter(y_test, y_pred)\n",
    "plt.xlabel('true price')\n",
    "plt.ylabel('predicted price')\n",
    "plt.title('Boston house price prediction with linear regression model')\n",
    "plt.show()\n",
    " \n",
    "# Distribution of errors\n",
    "plt.hist(y_pred - y_test)\n",
    "plt.xlabel('difference in true and predicted price')\n",
    "plt.show()"
   ]
  },
  {
   "cell_type": "code",
   "execution_count": null,
   "metadata": {},
   "outputs": [],
   "source": []
  }
 ],
 "metadata": {
  "kernelspec": {
   "display_name": "Python 3",
   "language": "python",
   "name": "python3"
  },
  "language_info": {
   "codemirror_mode": {
    "name": "ipython",
    "version": 3
   },
   "file_extension": ".py",
   "mimetype": "text/x-python",
   "name": "python",
   "nbconvert_exporter": "python",
   "pygments_lexer": "ipython3",
   "version": "3.6.6"
  }
 },
 "nbformat": 4,
 "nbformat_minor": 2
}
