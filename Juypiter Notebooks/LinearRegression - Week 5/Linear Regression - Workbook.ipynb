{
 "cells": [
  {
   "cell_type": "markdown",
   "metadata": {
    "colab_type": "text",
    "id": "FQhu31QFllAZ"
   },
   "source": [
    "# Linear Regression and Gradient Descent"
   ]
  },
  {
   "cell_type": "markdown",
   "metadata": {
    "colab_type": "text",
    "id": "UZ6b0FzGKITn"
   },
   "source": [
    "Aims:\n",
    "\n",
    "* Implement batch gradient descent for a simple linear regression model\n",
    "* Review matrix dot products with `numpy`\n",
    "* Simple plots with `matplotlib.pyplot`\n",
    "\n",
    "You will need to fill in parts that say \n",
    "    # INSERT CODE HERE\n",
    "    \n",
    "where possible the exercises will indicate the expected output for you to check your work."
   ]
  },
  {
   "cell_type": "code",
   "execution_count": 2,
   "metadata": {
    "colab": {},
    "colab_type": "code",
    "id": "h-w2Tx2wliJg"
   },
   "outputs": [],
   "source": [
    "import numpy as np\n",
    "import matplotlib.pyplot as plt\n",
    "%matplotlib inline"
   ]
  },
  {
   "cell_type": "markdown",
   "metadata": {
    "colab_type": "text",
    "id": "29JmiAxbWpVi"
   },
   "source": [
    "## 1. Data loading"
   ]
  },
  {
   "cell_type": "code",
   "execution_count": 3,
   "metadata": {
    "colab": {},
    "colab_type": "code",
    "id": "B0ST6vQzl1CZ"
   },
   "outputs": [],
   "source": [
    "def get_data():\n",
    "    '''Load data for the exercise.\n",
    "    \n",
    "    Returns:\n",
    "    X : 2d numpy array\n",
    "    y : 1d numpy array\n",
    "    '''\n",
    "    # Loads data from CSV - do not change this !!\n",
    "    data = np.loadtxt('regression.csv', delimiter=',', skiprows=1)\n",
    "    X, y = data[:,[1,0]], data[:, 2]\n",
    "    return X, y"
   ]
  },
  {
   "cell_type": "code",
   "execution_count": 4,
   "metadata": {
    "colab": {
     "base_uri": "https://localhost:8080/",
     "height": 639
    },
    "colab_type": "code",
    "executionInfo": {
     "elapsed": 608,
     "status": "error",
     "timestamp": 1534262807422,
     "user": {
      "displayName": "Chris Dancel",
      "photoUrl": "https://lh3.googleusercontent.com/a/default-user=s128",
      "userId": "109195381970588174472"
     },
     "user_tz": -60
    },
    "id": "0rGKDflLl6h3",
    "outputId": "8df5b399-e576-43cb-8f45-ac7840f07c4b"
   },
   "outputs": [],
   "source": [
    "# Get the data. X and y are numpy arrays.\n",
    "X, y = get_data()"
   ]
  },
  {
   "cell_type": "code",
   "execution_count": 5,
   "metadata": {
    "colab": {},
    "colab_type": "code",
    "id": "Uk9ds9KTKITy"
   },
   "outputs": [
    {
     "data": {
      "text/plain": [
       "(5000, 2)"
      ]
     },
     "execution_count": 5,
     "metadata": {},
     "output_type": "execute_result"
    }
   ],
   "source": [
    "# Return the dimensions of the matrix X in the form (nrows, ncolumns)\n",
    "\n",
    "X.shape"
   ]
  },
  {
   "cell_type": "markdown",
   "metadata": {
    "colab_type": "text",
    "id": "MY1LobavKIT0"
   },
   "source": [
    "`X` is a two-dimensional array with 5000 rows and 2 columns. In other words, our feature dataset contains 5000 examples and has 2 features."
   ]
  },
  {
   "cell_type": "code",
   "execution_count": 6,
   "metadata": {
    "colab": {},
    "colab_type": "code",
    "id": "yXEfb59mKIT1"
   },
   "outputs": [
    {
     "data": {
      "text/plain": [
       "(5000,)"
      ]
     },
     "execution_count": 6,
     "metadata": {},
     "output_type": "execute_result"
    }
   ],
   "source": [
    "# Return the dimensions of the matrix y\n",
    "\n",
    "y.shape"
   ]
  },
  {
   "cell_type": "markdown",
   "metadata": {
    "colab_type": "text",
    "id": "aieSObBeKIT4"
   },
   "source": [
    "Expected output:\n",
    "\n",
    "    (5000,)\n",
    "    \n",
    "`y` is a one-dimensional array with length 5000. This is our target data - the values we wish to predict."
   ]
  },
  {
   "cell_type": "markdown",
   "metadata": {
    "colab_type": "text",
    "id": "afTmi0cJKIT5"
   },
   "source": [
    "## 2. Data exploration"
   ]
  },
  {
   "cell_type": "markdown",
   "metadata": {
    "colab_type": "text",
    "id": "MMUkdDJeKIT5"
   },
   "source": [
    "Let's begin by taking a look at the first few rows of data.\n",
    "\n",
    "Hint: https://docs.scipy.org/doc/numpy/reference/arrays.indexing.html#arrays-indexing"
   ]
  },
  {
   "cell_type": "code",
   "execution_count": 7,
   "metadata": {
    "colab": {},
    "colab_type": "code",
    "id": "IFtZqh2OKIT5"
   },
   "outputs": [
    {
     "data": {
      "text/plain": [
       "array([[ 1.        ,  0.32674476],\n",
       "       [ 1.        ,  2.56008454],\n",
       "       [ 1.        , -0.61138525],\n",
       "       [ 1.        , -0.89783007],\n",
       "       [ 1.        ,  0.63293182]])"
      ]
     },
     "execution_count": 7,
     "metadata": {},
     "output_type": "execute_result"
    }
   ],
   "source": [
    "# Print the first 5 rows of X\n",
    "\n",
    "X[:5]"
   ]
  },
  {
   "cell_type": "markdown",
   "metadata": {
    "colab_type": "text",
    "id": "uvlSVW0NKIT9"
   },
   "source": [
    "Expected output:\n",
    "    \n",
    "    array([[ 1.        ,  0.32674476],\n",
    "           [ 1.        ,  2.56008454],\n",
    "           [ 1.        , -0.61138525],\n",
    "           [ 1.        , -0.89783007],\n",
    "           [ 1.        ,  0.63293182]])"
   ]
  },
  {
   "cell_type": "code",
   "execution_count": 8,
   "metadata": {
    "colab": {},
    "colab_type": "code",
    "id": "rAPU_-fRKIT9"
   },
   "outputs": [
    {
     "data": {
      "text/plain": [
       "array([ 14.65056972,  42.12063856,  -7.70932904, -12.49118658,\n",
       "         8.86824912])"
      ]
     },
     "execution_count": 8,
     "metadata": {},
     "output_type": "execute_result"
    }
   ],
   "source": [
    "# Print the first 5 rows of y\n",
    "\n",
    "y[0:5:1]"
   ]
  },
  {
   "cell_type": "markdown",
   "metadata": {
    "colab_type": "text",
    "id": "iytnm0LuKIUA"
   },
   "source": [
    "Expected output: \n",
    "\n",
    "    array([ 14.65056972,  42.12063856,  -7.70932904, -12.49118658,\n",
    "             8.86824912])"
   ]
  },
  {
   "cell_type": "markdown",
   "metadata": {
    "colab_type": "text",
    "id": "DT3oIOAKKIUB"
   },
   "source": [
    "It is often useful to make some simple plots to visualise the data. We will be using the `matplotlib` library to make our plots.\n",
    "\n",
    "Hints:\n",
    "* Slicing with numpy: https://docs.scipy.org/doc/numpy/reference/arrays.indexing.html#arrays-indexing\n",
    "* Scatter plots: https://matplotlib.org/api/_as_gen/matplotlib.pyplot.scatter.html\n",
    "* Histograms: https://matplotlib.org/api/_as_gen/matplotlib.pyplot.hist.html"
   ]
  },
  {
   "cell_type": "code",
   "execution_count": 9,
   "metadata": {
    "colab": {},
    "colab_type": "code",
    "id": "C0gvuWAu2Ek5"
   },
   "outputs": [
    {
     "data": {
      "text/plain": [
       "<matplotlib.collections.PathCollection at 0x782753ce48>"
      ]
     },
     "execution_count": 9,
     "metadata": {},
     "output_type": "execute_result"
    },
    {
     "data": {
      "image/png": "[encoded data removed]",
      "text/plain": [
       "<Figure size 432x288 with 1 Axes>"
      ]
     },
     "metadata": {},
     "output_type": "display_data"
    }
   ],
   "source": [
    "# Make a scatter plot of the first column of X vs y\n",
    "# You will need to \"slice\" X to get just the values in the first column\n",
    "# As a bonus, add some labels to your axes\n",
    "\n",
    "xvalues = X[::,0]\n",
    "plt.scatter(xvalues,y)"
   ]
  },
  {
   "cell_type": "code",
   "execution_count": 10,
   "metadata": {
    "colab": {},
    "colab_type": "code",
    "id": "9SG4AQTSKIUE"
   },
   "outputs": [
    {
     "data": {
      "text/plain": [
       "<matplotlib.collections.PathCollection at 0x7827527b38>"
      ]
     },
     "execution_count": 10,
     "metadata": {},
     "output_type": "execute_result"
    },
    {
     "data": {
      "image/png": "[encoded data removed]",
      "text/plain": [
       "<Figure size 432x288 with 1 Axes>"
      ]
     },
     "metadata": {},
     "output_type": "display_data"
    }
   ],
   "source": [
    "# Make a scatter plot of the second column of X vs y\n",
    "\n",
    "# INSERT CODE HERE\n",
    "\n",
    "xvalues = X[::,1]\n",
    "plt.scatter(xvalues,y)"
   ]
  },
  {
   "cell_type": "markdown",
   "metadata": {
    "colab_type": "text",
    "id": "2aIfGONd12KP"
   },
   "source": [
    "** Question: Is this dataset appropriate for a linear regression model? Explain. **"
   ]
  },
  {
   "cell_type": "markdown",
   "metadata": {},
   "source": [
    "**Answer**:\n",
    "\n",
    "    # INSERT ANSWER HERE\n",
    "    Yes, there is a clear linear relationship in the second scatter plot"
   ]
  },
  {
   "cell_type": "markdown",
   "metadata": {
    "colab_type": "text",
    "id": "EWGZ3L1hqRgj"
   },
   "source": [
    "## 2. Defining the model and cost function"
   ]
  },
  {
   "cell_type": "markdown",
   "metadata": {
    "colab_type": "text",
    "id": "83dbk3enoUQE"
   },
   "source": [
    "### Linear Regression\n",
    "\n",
    "We will model the data using linear regression.\n",
    "The predictions $\\hat{y}^i$ are given by the linear model\n",
    "\n",
    "$\\hat{y}^i=w_0x^i_0 + w_1x^i_1$.   $\\quad\\quad\\quad(1)$\n",
    "\n",
    "Notation explained:\n",
    "\n",
    "* The superscript $i$ denotes the $i$-th example (or row) in the dataset.\n",
    "* $x_0$ and $x_1$ are the two features (or columns) in `X`\n",
    "* $w_0$ and $w_1$ are the parameters of the model and indicate the dependence of $\\hat{y}$ on $x_0$ and $x_1$, respectively.\n",
    "\n",
    "**Bias term**\n",
    "\n",
    "You may have noticed that all the values $x_0^i=1$. In this case, $w_0$ is effectively a bias term and we could write the model as simply\n",
    "\n",
    "$\\hat{y}^i=w_0 + w_1x^i_1$,   $\\quad\\quad\\quad(2)$\n",
    "\n",
    "but to allow more elegant matrix operations we will state $x^i_0$ explicitly.\n",
    "\n",
    "Hence, as a matrix dot product, we can write\n",
    "\n",
    "$\\hat{y}=X\\cdot\\mathbf{w}$,   $\\quad\\quad\\quad(3)$\n",
    "\n",
    "where $X$ is a matrix with shape `(n samples, n features = 2)` and $\\mathbf{w}$ is the weights vector $[w_0, w_1]$.\n",
    "\n",
    "**Question:** What are the dimensions of $\\hat{y}$?"
   ]
  },
  {
   "cell_type": "code",
   "execution_count": 11,
   "metadata": {},
   "outputs": [
    {
     "data": {
      "text/plain": [
       "(5000,)"
      ]
     },
     "execution_count": 11,
     "metadata": {},
     "output_type": "execute_result"
    }
   ],
   "source": [
    "w = np.array([1,2])\n",
    "dot_prod = np.dot(X,w)\n",
    "np.shape(dot_prod)\n",
    "\n",
    "#dimensions of y^ are one dimensional array of length n samples"
   ]
  },
  {
   "cell_type": "markdown",
   "metadata": {
    "colab_type": "text",
    "id": "avSDpnt3KIUK"
   },
   "source": [
    "Define a `predict(X,w)` method that calculates the linear regression model for a given input of X and w.\n",
    "\n",
    "Hint: https://docs.scipy.org/doc/numpy/reference/generated/numpy.dot.html"
   ]
  },
  {
   "cell_type": "code",
   "execution_count": 12,
   "metadata": {
    "colab": {},
    "colab_type": "code",
    "id": "0b4bQp2LprH1"
   },
   "outputs": [],
   "source": [
    "# Define a function that calculates the linear regression model. This will come in useful later.\n",
    "def predict(X, w):\n",
    "    '''The linear regression model as defined in Equation (1).\n",
    "    It takes X and w as inputs and returns a 1d-array of predictions.\n",
    "\n",
    "    Parameters:\n",
    "    X : 2d-array, shape=(n_samples,n_features)\n",
    "    w : 1d-array, shape=(n_features,)\n",
    "\n",
    "    Returns:\n",
    "    ypred : 1d-array, shape=(n_samples,)\n",
    "    '''\n",
    "    # Check that the number of features in X is equal to the number features in the weights vector\n",
    "    assert X.shape[1] == len(w)\n",
    "\n",
    "    ypred = np.dot(X,w)\n",
    "    \n",
    "    # Check that the number of predictions made is equal to the number of samples in X\n",
    "    assert len(ypred) == X.shape[0]\n",
    "\n",
    "    return ypred"
   ]
  },
  {
   "cell_type": "code",
   "execution_count": 13,
   "metadata": {
    "colab": {},
    "colab_type": "code",
    "id": "gXVf9JQDKIUQ"
   },
   "outputs": [
    {
     "data": {
      "text/plain": [
       "array([ 0.32872134,  1.89205918, -0.32796967, -0.52848105,  0.54305227])"
      ]
     },
     "execution_count": 13,
     "metadata": {},
     "output_type": "execute_result"
    }
   ],
   "source": [
    "# Test your function with these example values of w\n",
    "w = np.array([0.1, 0.7])\n",
    "predict(X[:5], w)"
   ]
  },
  {
   "cell_type": "markdown",
   "metadata": {
    "colab_type": "text",
    "id": "k3m-v47_KIUT"
   },
   "source": [
    "Expected output:\n",
    "    \n",
    "    array([ 0.32872134,  1.89205918, -0.32796967, -0.52848105,  0.54305227])"
   ]
  },
  {
   "cell_type": "markdown",
   "metadata": {
    "colab_type": "text",
    "id": "KxafyWDGKIUT"
   },
   "source": [
    "### Cost function\n",
    "In order to find the values of $\\mathbf{w}$ that best represent the data we need to define a cost function that quantifies how far away our estimate of $\\hat{y}$ differs from the true values $y$.\n",
    "\n",
    "For linear regression the cost function to be minimised is the **RMSE** between the true $y^i$ and predicted $\\hat{y}^i$ values:\n",
    "\n",
    "$J(\\mathbf{w})=\\frac{1}{2m}\\sum^m_{i=1}(\\hat{y}^i-y^i)^2$. $\\quad\\quad\\quad(4)$\n",
    "\n",
    "* We sum the squared error over all samples from $i=1$ to $i=m$, where $m$ is the number of samples in the data.\n",
    "* The additional multiplication by half $\\frac{1}{2}$ compared to a normal RMSE equation is a convention that is there for convenience when we compute gradient descent."
   ]
  },
  {
   "cell_type": "markdown",
   "metadata": {
    "colab_type": "text",
    "id": "aIFeo2S8KIUV"
   },
   "source": [
    "Define a `cost_function(ypred, y)` method that calculates the cost function in Equation (4).\n",
    "\n",
    "Hint: https://docs.scipy.org/doc/numpy/reference/generated/numpy.sum.html"
   ]
  },
  {
   "cell_type": "code",
   "execution_count": 14,
   "metadata": {
    "colab": {},
    "colab_type": "code",
    "id": "63bxkO5pZmjk"
   },
   "outputs": [],
   "source": [
    "def cost_function(ypred, y):\n",
    "    '''The cost function J(w) as defined in Equation (4).\n",
    "\n",
    "    Parameters:\n",
    "    ypred : 1d-array, y values predicted by model \n",
    "    y : 1d-array, true y values\n",
    "\n",
    "    Returns:\n",
    "    float, J (the cost)\n",
    "    '''\n",
    "    # m is the number of samples\n",
    "    m = len(ypred) # INSERT CODE HERE\n",
    "    errors = ypred - y\n",
    "    errors_squared = errors ** 2\n",
    "    sum_errors = np.sum(errors_squared)\n",
    "    \n",
    "    # J is the cost\n",
    "    J = sum_errors / (2*m)\n",
    "    # Check that J is a scalar\n",
    "    assert J.shape == ()\n",
    "\n",
    "    return J"
   ]
  },
  {
   "cell_type": "markdown",
   "metadata": {
    "colab_type": "text",
    "id": "WT3vGbZbqV4F"
   },
   "source": [
    "## 3. Batch Gradient Descent "
   ]
  },
  {
   "cell_type": "markdown",
   "metadata": {
    "colab_type": "text",
    "id": "UeODKjetp7m3"
   },
   "source": [
    "The goal of gradient descent is to find the values of $w_0$ and $w_1$ that **minimise** the cost function $J(\\mathbf{w})$.\n",
    "\n",
    "The minimum is found by evaluating the _gradient_ $\\frac{dJ}{d\\mathbf{w}}$ at a given $\\mathbf{w}$ value, and taking a small step, the _learning rate_ $\\alpha$, along it.\n",
    "\n",
    "There are many different gradient descent algorithms. Here we will implement the **batch gradient descent algorithm**. In batch gradient descent, we will use all the examples in the sample at each iteration to update $w_0$ and $w_1$.\n",
    "\n",
    "The algorithm goes as follows:\n",
    "1. Initialise $\\mathbf{w}=[w_0, w_1]$ with random values.\n",
    "2. Calculate the gradients $\\frac{dJ}{dw_0}$, $\\frac{dJ}{dw_1}$ at this point.\n",
    "3. Update the value of $\\mathbf{w}$ using the update equations\n",
    "\n",
    "  $w_0 := w_0 - \\alpha \\frac{dJ}{dw_0}$, $\\quad\\quad\\quad(5)$\n",
    "\n",
    "  $w_1 := w_1 - \\alpha \\frac{dJ}{dw_1}$. $\\quad\\quad\\quad(6)$\n",
    "4. Repeat steps 2 and 3 until the change in $\\mathbf{w}$ is small.\n"
   ]
  },
  {
   "cell_type": "markdown",
   "metadata": {
    "colab_type": "text",
    "id": "XYIuczBPqgeZ"
   },
   "source": [
    "Let's implement each step in turn.\n",
    "\n",
    "### Step 1: Initialise w with random values\n",
    "\n",
    "Hint: https://docs.scipy.org/doc/numpy-1.14.0/reference/generated/numpy.random.rand.html"
   ]
  },
  {
   "cell_type": "code",
   "execution_count": 109,
   "metadata": {
    "colab": {},
    "colab_type": "code",
    "id": "P3yNbgp4X6m8"
   },
   "outputs": [],
   "source": [
    "def initialise_w(n_features):\n",
    "    '''Initialise the weights vector w with random values.\n",
    "\n",
    "    Parameters:\n",
    "    n_features : int, number of features \n",
    "\n",
    "    Returns:\n",
    "    w : 1d-array\n",
    "    '''\n",
    "    # Set a seed so we get predictable values\n",
    "    np.random.seed(1)\n",
    "\n",
    "    w = np.random.rand(2,)\n",
    "    \n",
    "    # Check that w has the right shape\n",
    "    assert w.shape == (n_features,)\n",
    "\n",
    "    return w"
   ]
  },
  {
   "cell_type": "code",
   "execution_count": 110,
   "metadata": {
    "colab": {},
    "colab_type": "code",
    "id": "-9BbDyWkYBK1",
    "scrolled": true
   },
   "outputs": [
    {
     "name": "stdout",
     "output_type": "stream",
     "text": [
      "w = [0.4170,0.7203]\n",
      "yhat[0]=0.6524\n",
      "Cost=144.0347\n"
     ]
    }
   ],
   "source": [
    "# Test the initialise_w method\n",
    "w = initialise_w(2)\n",
    "\n",
    "print('w = [{:.4f},{:.4f}]'.format(w[0], w[1]))\n",
    "\n",
    "ypred = predict(X, w)\n",
    "print('yhat[0]={:.4f}'.format(ypred[0]))\n",
    "\n",
    "cost = cost_function(ypred, y)\n",
    "#print(cost.shape)\n",
    "print('Cost={:.4f}'.format(cost))"
   ]
  },
  {
   "cell_type": "markdown",
   "metadata": {
    "colab_type": "text",
    "id": "B57BEsyjibMO"
   },
   "source": [
    "Expected output:\n",
    "```\n",
    "w = [0.4170,0.7203]\n",
    "yhat[0]=0.6524\n",
    "Cost=144.0347\n",
    "```"
   ]
  },
  {
   "cell_type": "markdown",
   "metadata": {
    "colab_type": "text",
    "id": "9P16h0KLqk4J"
   },
   "source": [
    "### Step 2: Calculate the gradient of J\n",
    "\n",
    "Recalling Equations (1) and (4):\n",
    "\n",
    "$\\hat{y}^i=w_0x^i_0 + w_1x^i_1$.   $\\quad\\quad\\quad(1)$\n",
    "\n",
    "$J(\\mathbf{w})=\\frac{1}{2m}\\sum^m_{i=1}(\\hat{y}^i-y^i)^2$. $\\quad\\quad\\quad(4)$\n",
    "\n",
    "Evaluate the gradients $\\frac{dJ}{dw_0}$ and $\\frac{dJ}{dw_1}$. You may need some pen and paper for this part."
   ]
  },
  {
   "cell_type": "markdown",
   "metadata": {
    "colab_type": "text",
    "id": "FbMrqNF8KIUh"
   },
   "source": [
    "Implement `calc_dJ/dw0(X, y, w)` and `calc_dJ/dw1(X, y, w)`:"
   ]
  },
  {
   "cell_type": "markdown",
   "metadata": {},
   "source": [
    "dJ/dw0 = 1/m * SUM((ypred - y)*x0)\n",
    "dJ/dw1 = 1/m * SUM((ypred - y)*x1)"
   ]
  },
  {
   "cell_type": "code",
   "execution_count": 111,
   "metadata": {},
   "outputs": [
    {
     "data": {
      "text/plain": [
       "array([ 0.32674476,  2.56008454, -0.61138525, ...,  1.08004807,\n",
       "       -1.28042935,  0.1943843 ])"
      ]
     },
     "execution_count": 111,
     "metadata": {},
     "output_type": "execute_result"
    }
   ],
   "source": [
    "X[:,1]"
   ]
  },
  {
   "cell_type": "code",
   "execution_count": 112,
   "metadata": {
    "colab": {},
    "colab_type": "code",
    "id": "5HTQB3isZ5Rn"
   },
   "outputs": [],
   "source": [
    "def calc_dJ_dw0(X, y, w):\n",
    "    '''Function to calculate dJ/dw0\n",
    "\n",
    "    Parameters:\n",
    "    X : 2d-array, feature matrix\n",
    "    y : 1d-array, true y values\n",
    "    w : 1d-array, linear regression model weights\n",
    "\n",
    "    Returns:\n",
    "    dJ_dw0 : float\n",
    "    '''\n",
    "    # Number of samples\n",
    "    m = len(y) # INSERT CODE HERE\n",
    "    \n",
    "    ypred = predict(X,w) # INSERT CODE HERE\n",
    "    \n",
    "    dJ_dw0 = ( m ** -1 ) * np.sum( ( ypred - y ) * X[:,0]  )   # INSERT CODE HERE\n",
    "    \n",
    "    return dJ_dw0\n",
    "\n",
    "\n",
    "def calc_dJ_dw1(X, y, w):\n",
    "    '''Function to calculate dJ/dw1\n",
    "\n",
    "    Parameters:\n",
    "    X : 2d-array, feature matrix\n",
    "    y : 1d-array, true y values\n",
    "    w : 1d-array, linear regression model weights\n",
    "\n",
    "    Returns:\n",
    "    dJ_dw1 : float\n",
    "    '''\n",
    "    # Number of samples\n",
    "    m = len(y) # INSERT CODE HERE\n",
    "    \n",
    "    ypred = predict(X,w) # INSERT CODE HERE\n",
    "    \n",
    "    dJ_dw1 = ( m ** -1 ) * np.sum( ( ypred - y ) * X[:,1]  )   # INSERT CODE HERE\n",
    "\n",
    "    return dJ_dw1"
   ]
  },
  {
   "cell_type": "code",
   "execution_count": 113,
   "metadata": {
    "colab": {},
    "colab_type": "code",
    "id": "V_rrvVbiiGXf"
   },
   "outputs": [
    {
     "name": "stdout",
     "output_type": "stream",
     "text": [
      "dJ/dw0=-2.2698\n",
      "dJ/dw1=-15.9842\n"
     ]
    }
   ],
   "source": [
    "# Check the derivatives of J wrt w0 and w1\n",
    "w = initialise_w(2)\n",
    "dJ_dw0 = calc_dJ_dw0(X, y, w)\n",
    "dJ_dw1 = calc_dJ_dw1(X, y, w)\n",
    "\n",
    "print('dJ/dw0={:.4f}'.format(dJ_dw0))\n",
    "print('dJ/dw1={:.4f}'.format(dJ_dw1))"
   ]
  },
  {
   "cell_type": "markdown",
   "metadata": {
    "colab_type": "text",
    "id": "JQGCNvcAjF2y"
   },
   "source": [
    "Expected output:\n",
    "```\n",
    "dJ/dw0=-2.2698\n",
    "dJ/dw1=-15.9842\n",
    "```"
   ]
  },
  {
   "cell_type": "markdown",
   "metadata": {
    "colab_type": "text",
    "id": "lA3KOwPr4bWw"
   },
   "source": [
    "A much more elegation solution is to use `np.dot` to perform a matrix multiplication and evaluate $dJ/dw_0$ and $dJ/dw_1$ in a single operation to return the vector \n",
    "\n",
    "[$dJ/dw_0$, $dJ/dw_1$]. \n",
    "\n",
    "Examine the equations you wrote out for the derivatives and try to implement it:"
   ]
  },
  {
   "cell_type": "code",
   "execution_count": 114,
   "metadata": {
    "colab": {},
    "colab_type": "code",
    "id": "TN_6Odvs21-w"
   },
   "outputs": [],
   "source": [
    "def calc_dJ_dw(X, y, w):\n",
    "    '''Function to calculate dJ/dw\n",
    "\n",
    "    Parameters:\n",
    "    X : 2d-array, feature matrix\n",
    "    y : 1d-array, true y values\n",
    "    w : 1d-array, linear regression model weights\n",
    "\n",
    "    Returns:\n",
    "    dJ_dw : 1d-array\n",
    "    '''\n",
    "    # Number of samples\n",
    "    m = len(y)\n",
    "    \n",
    "    ypred = predict(X,w)\n",
    "    \n",
    "    dJ_dw = ( m ** -1 ) * np.dot(( ypred - y ) , X )  # INSERT CODE HERE\n",
    "\n",
    "    # Check that dJ_dw has the right shape\n",
    "    assert dJ_dw.shape == w.shape\n",
    "\n",
    "    return dJ_dw"
   ]
  },
  {
   "cell_type": "code",
   "execution_count": 115,
   "metadata": {
    "colab": {},
    "colab_type": "code",
    "id": "2-1tUHT828Do"
   },
   "outputs": [
    {
     "name": "stdout",
     "output_type": "stream",
     "text": [
      "dJ/dw = [dJ/dw_0, dJ/dw_1] = [ -2.2697622  -15.98422692]\n"
     ]
    }
   ],
   "source": [
    "# Check the calc_dJ_dw method\n",
    "dJ_dw = calc_dJ_dw(X, y, w)\n",
    "print('dJ/dw = [dJ/dw_0, dJ/dw_1] =', dJ_dw)"
   ]
  },
  {
   "cell_type": "markdown",
   "metadata": {
    "colab_type": "text",
    "id": "BuX4gZIVKIUu"
   },
   "source": [
    "Expected output:\n",
    "\n",
    "    dJ/dw = [dJ/dw_0, dJ/dw_1] = [ -2.2697622  -15.98422692]"
   ]
  },
  {
   "cell_type": "markdown",
   "metadata": {
    "colab_type": "text",
    "id": "i_8NAa40qoPq"
   },
   "source": [
    "### Step 3: Update the value of w\n",
    "\n",
    "With the gradients in hand we can update the value of $\\mathbf{w}$ using the update equations\n",
    "\n",
    "  $w_0 := w_0 - \\alpha \\frac{dJ}{dw_0}$, $\\quad\\quad\\quad(5)$\n",
    "\n",
    "  $w_1 := w_1 - \\alpha \\frac{dJ}{dw_1}$. $\\quad\\quad\\quad(6)$\n",
    "  \n",
    "This improves our estimate of $\\mathbf{w}$ by taking a step of size $\\alpha$ \"downhill\" towards the minimum."
   ]
  },
  {
   "cell_type": "code",
   "execution_count": 116,
   "metadata": {
    "colab": {},
    "colab_type": "code",
    "id": "_lkrcNe-iCeI"
   },
   "outputs": [],
   "source": [
    "def update_w(w, alpha, dJ_dw):\n",
    "    '''Update the weights vector w.\n",
    "    \n",
    "    Parameters:\n",
    "    w : 1d-array, weights vector\n",
    "    alpha : float, learning rate\n",
    "    dJ_dw : 1d-array, gradients vector\n",
    "    \n",
    "    Returns:\n",
    "    new_w : 1d-array, updated weights vector\n",
    "    '''    \n",
    "    new_w = w - (alpha * dJ_dw  )# INSERT CODE HERE\n",
    "    \n",
    "    # Check the dimensions of new_w\n",
    "    assert new_w.shape == w.shape\n",
    "    \n",
    "    return new_w"
   ]
  },
  {
   "cell_type": "markdown",
   "metadata": {
    "colab": {},
    "colab_type": "code",
    "id": "Buj0_3ORr7Ys"
   },
   "source": [
    "Let's try taking one iteration of batch gradient descent. \n",
    "\n",
    "As a reminder, the algorithm goes as follows:\n",
    "1. Initialise $\\mathbf{w}=[w_0, w_1]$ with random values.\n",
    "2. Calculate the gradients $\\frac{dJ}{dw_0}$, $\\frac{dJ}{dw_1}$ at this point.\n",
    "3. Update the value of $\\mathbf{w}$ using the update equations $w_0 := w_0 - \\alpha \\frac{dJ}{dw_0}$, $w_1 := w_1 - \\alpha \\frac{dJ}{dw_1}$. \n"
   ]
  },
  {
   "cell_type": "code",
   "execution_count": 117,
   "metadata": {
    "colab": {},
    "colab_type": "code",
    "id": "Z52wGIe3YRum"
   },
   "outputs": [
    {
     "name": "stdout",
     "output_type": "stream",
     "text": [
      "new w=[0.43971963 0.88016676]\n"
     ]
    }
   ],
   "source": [
    "# Initialise w to random value\n",
    "w = initialise_w(2)  #should probably make this dynamic# INSERT CODE HERE\n",
    "\n",
    "# Calculate the gradient\n",
    "dJ_dw = calc_dJ_dw(X, y, w) # INSERT CODE HERE\n",
    "\n",
    "# Set the value of alpha to 0.01\n",
    "alpha = 0.01\n",
    "\n",
    "# Update w\n",
    "new_w = update_w(w, alpha, dJ_dw) # INSERT CODE HERE\n",
    "\n",
    "print('new w={}'.format(new_w))"
   ]
  },
  {
   "cell_type": "markdown",
   "metadata": {
    "colab_type": "text",
    "id": "xd9Q3pyam_i9"
   },
   "source": [
    "Expected output:\n",
    "```\n",
    "new w=[0.43971963 0.88016676]\n",
    "```"
   ]
  },
  {
   "cell_type": "markdown",
   "metadata": {
    "colab_type": "text",
    "id": "0FTg2Ur2qqlC"
   },
   "source": [
    "Calculate the cost $J$ at the updated value of $\\mathbf{w}$ which we obtained after one step of gradient descent. \n",
    "\n",
    "**Question**: Do you expect it to increase or decrease? Why?"
   ]
  },
  {
   "cell_type": "markdown",
   "metadata": {},
   "source": [
    "**Answer:**\n",
    "\n",
    "    Should decrease as we have taken a step towards the minimum. Could have increased if we have chosen too large an alpha though"
   ]
  },
  {
   "cell_type": "code",
   "execution_count": 118,
   "metadata": {
    "colab": {},
    "colab_type": "code",
    "id": "Q8g7Aaw_YSHM"
   },
   "outputs": [
    {
     "name": "stdout",
     "output_type": "stream",
     "text": [
      "Initial Cost: 144.0347\n",
      "Cost after one step of gradient descent: 141.4412\n"
     ]
    }
   ],
   "source": [
    "# Calculate the cost at new_w\n",
    "\n",
    "new_cost = cost_function(predict(X, new_w), y)# INSERT CODE HERE\n",
    "\n",
    "print('Initial Cost: {:.4f}'.format(cost))\n",
    "print('Cost after one step of gradient descent: {:.4f}'.format(new_cost))"
   ]
  },
  {
   "cell_type": "markdown",
   "metadata": {
    "colab_type": "text",
    "id": "iOO300TvnEX5"
   },
   "source": [
    "Expected output:\n",
    "```\n",
    "Initial Cost: 144.0347\n",
    "Cost after one step of gradient descent: 141.4412\n",
    "```"
   ]
  },
  {
   "cell_type": "markdown",
   "metadata": {
    "colab_type": "text",
    "id": "-o1u1HBxqvDu"
   },
   "source": [
    "### Step 4: Repeat\n",
    "\n",
    "We have a made a small improvement in the estimation of the parameters for our linear regression model. \n",
    "\n",
    "In order to find the best estimate of $\\mathbf{w}$ we will need to do many iterations of gradient descent to get to the minimum of $J(\\mathbf{w})$. \n",
    "\n",
    "Let's put everything together into a single \"fit\" function that takes X and y as inputs and iterates the process.\n"
   ]
  },
  {
   "cell_type": "code",
   "execution_count": 119,
   "metadata": {
    "colab": {},
    "colab_type": "code",
    "id": "228tEsDzY646"
   },
   "outputs": [],
   "source": [
    "def fit(X, y, n_iterations=100, alpha=0.01, verbose=False):\n",
    "    '''Fit linear regression model to data X, y.\n",
    "    \n",
    "    Parameters:\n",
    "    X : 2d-array, feature matrix shape=(m, n_features)\n",
    "    y : 1d-array, targets\n",
    "    n_iterations : int, number of iterations of gradient descent\n",
    "    alpha : float, learning rate\n",
    "    verbose : bool, prints the cost every 10 iterations\n",
    "    \n",
    "    Returns:\n",
    "    w : nd-array, final weights matrix shape=(n_features,)\n",
    "    cost_values : 1d-array, cost at each iteration shape=(n_iterations,)\n",
    "    w_values : nd-array, weights at each iteration shape=(n_iterations, n_features)\n",
    "    '''\n",
    "    n_features = X.shape[1]\n",
    "    \n",
    "    # Step 1: Initialise w at a random point\n",
    "    w = initialise_w(n_features)# INSERT CODE HERE\n",
    "    \n",
    "    # We are going to save the values of the cost and w at each iteration for later analysis\n",
    "    cost_values = [] \n",
    "    w_values = [] \n",
    "    iteration = []\n",
    "    \n",
    "    # Repeat n_iterations times\n",
    "    for i in range(n_iterations):\n",
    "        \n",
    "        # Step 2: Calculate the gradient \n",
    "        # INSERT CODE HERE\n",
    "        dJ_dw = calc_dJ_dw(X, y, w)\n",
    "        \n",
    "        # Step 3: Update w\n",
    "        # INSERT CODE HERE\n",
    "        w = update_w(w, alpha, dJ_dw)\n",
    "        \n",
    "        # Calculate the cost \n",
    "        # INSERT CODE HERE\n",
    "        cost = cost_function(predict(X, w), y)\n",
    "\n",
    "        if verbose and i % 10 == 0:\n",
    "          print('Iteration {}: Cost={:.6f}'.format(i, cost))\n",
    "\n",
    "        # Save the values of the cost and w after each iteration\n",
    "        cost_values.append(cost)\n",
    "        w_values.append(w)\n",
    "        iteration.append(i)\n",
    "        \n",
    "    cost_values = np.array(cost_values)\n",
    "    w_values = np.array(w_values)\n",
    "    iteration = np.array(iteration)\n",
    "    \n",
    "    return w, cost_values, w_values, iteration"
   ]
  },
  {
   "cell_type": "markdown",
   "metadata": {
    "colab_type": "text",
    "id": "XHYQU6HUKIVA"
   },
   "source": [
    "Let's try fitting X and y with the values\n",
    "\n",
    "    alpha=0.01\n",
    "    n_iterations=100"
   ]
  },
  {
   "cell_type": "code",
   "execution_count": 142,
   "metadata": {
    "colab": {},
    "colab_type": "code",
    "id": "Tmp2XL43mKsx"
   },
   "outputs": [
    {
     "name": "stdout",
     "output_type": "stream",
     "text": [
      "Iteration 0: Cost=141.441227\n",
      "Iteration 10: Cost=118.168016\n",
      "Iteration 20: Cost=99.111526\n",
      "Iteration 30: Cost=83.507731\n",
      "Iteration 40: Cost=70.731044\n",
      "Iteration 50: Cost=60.269229\n",
      "Iteration 60: Cost=51.702865\n",
      "Iteration 70: Cost=44.688527\n",
      "Iteration 80: Cost=38.945014\n",
      "Iteration 90: Cost=34.242076\n",
      "Final value of w=[ 1.83227168 10.88093585]\n"
     ]
    }
   ],
   "source": [
    "w, cost_values, w_values ,iteration = fit(X, y, alpha=0.01, n_iterations=100, verbose=True)\n",
    "\n",
    "print('Final value of w={}'.format(w))"
   ]
  },
  {
   "cell_type": "markdown",
   "metadata": {
    "colab_type": "text",
    "id": "aAC3sLwgsQdH"
   },
   "source": [
    "Expected output:\n",
    "```\n",
    "Final value of w=[ 1.83227168 10.88093585]\n",
    "```\n",
    "  "
   ]
  },
  {
   "cell_type": "markdown",
   "metadata": {},
   "source": [
    "## Visualising gradient descent\n",
    "\n",
    "### a. Cost as a function of gradient descent iteration\n",
    "\n",
    "It is often useful to plot the cost after each iteration of gradient descent to check that it is decreasing. (We will see in future weeks that there is a lot of other useful information here.)"
   ]
  },
  {
   "cell_type": "code",
   "execution_count": 139,
   "metadata": {
    "colab": {},
    "colab_type": "code",
    "id": "mXY6qhtWmMvy"
   },
   "outputs": [
    {
     "data": {
      "text/plain": [
       "<matplotlib.collections.PathCollection at 0x7828aadbe0>"
      ]
     },
     "execution_count": 139,
     "metadata": {},
     "output_type": "execute_result"
    },
    {
     "data": {
      "image/png": "[encoded data removed]",
      "text/plain": [
       "<Figure size 432x288 with 1 Axes>"
      ]
     },
     "metadata": {},
     "output_type": "display_data"
    }
   ],
   "source": [
    "# Plot the cost at each iteration of gradient descent\n",
    "# INSERT CODE HERE\n",
    "\n",
    "plt.scatter(iteration,cost_values)"
   ]
  },
  {
   "cell_type": "code",
   "execution_count": 140,
   "metadata": {
    "colab": {},
    "colab_type": "code",
    "id": "bBO9q_8trXT6"
   },
   "outputs": [],
   "source": [
    "def get_cost_matrix():\n",
    "    w0_list = np.linspace(-7.7, 11.7, 100)\n",
    "    w1_list = np.linspace(0, 32, 100)\n",
    "\n",
    "    J = np.zeros((len(w0_list),len(w1_list)))\n",
    "    for i in range(len(w0_list)):\n",
    "        for j in range(len(w1_list)):\n",
    "            w0 = w0_list[i]\n",
    "            w1 = w1_list[j]\n",
    "            ypred = predict(X, [w0, w1])\n",
    "            J[i,j] = cost_function(ypred, y)\n",
    "    w0ax, w1ax = np.meshgrid(w0_list, w1_list)\n",
    "    return w0ax, w1ax, J\n",
    "  \n",
    "def plot_gradient_descent(w_values):\n",
    "    # Plot the w values at each iteration\n",
    "    plt.scatter(w_values[:,0], w_values[:,1], color='k', s=10)\n",
    "    # Contour map of cost function\n",
    "    w0ax, w1ax, J = get_cost_matrix() \n",
    "    CS = plt.contour(w0ax, w1ax, J, cmap='viridis')\n",
    "    # Add labels to the contours\n",
    "    plt.clabel(CS, inline=1, fontsize=10)\n",
    "\n",
    "    plt.xlabel('w0')\n",
    "    plt.ylabel('w1')\n",
    "    plt.title('J(w)')\n",
    "    plt.show()"
   ]
  },
  {
   "cell_type": "code",
   "execution_count": 141,
   "metadata": {
    "colab": {},
    "colab_type": "code",
    "id": "h8k3F1PBwTRc"
   },
   "outputs": [
    {
     "data": {
      "image/png": "[encoded data removed]",
      "text/plain": [
       "<Figure size 432x288 with 1 Axes>"
      ]
     },
     "metadata": {},
     "output_type": "display_data"
    }
   ],
   "source": [
    "plot_gradient_descent(w_values)"
   ]
  },
  {
   "cell_type": "markdown",
   "metadata": {
    "colab_type": "text",
    "id": "2daEVxbVmgg8"
   },
   "source": [
    "## Optimizing gradient descent\n",
    "\n",
    "The true value of $\\mathbf{w}$ is `w = [2.7, 16.82365791084919]` where the cost is approximately `J=12.99`.\n",
    "\n",
    "**Question: How could you get a better estimate of w? (Bonus: test your ideas!)**"
   ]
  },
  {
   "cell_type": "markdown",
   "metadata": {
    "colab_type": "text",
    "id": "Fd-UMXe_1CX1"
   },
   "source": [
    "### b. Cost as a function of $\\mathbf{w}$\n",
    "\n",
    "Below is some code that will plot the cost function $J$ as a function of $w_0$ and $w_1$, with the values of $\\mathbf{w}$ evaluated at each iteration superimposed. \n",
    "\n",
    "You should be able to observe the values of $\\mathbf{w}$ slowly moving towards the minimum value of $J$."
   ]
  },
  {
   "cell_type": "markdown",
   "metadata": {},
   "source": [
    "**Answer:**\n",
    "    \n",
    "    After 100 iterations it looks like we are still moving towards the minimum, and havent leveled out much yet.\n",
    "    Running for 500 uterations shows that we level out around 250-300 iteration mark, so sould use 300 iterations for this\n",
    "    \n",
    "    The steps shown on the graph all look quite small, so we can probably safely increase Alpha to take larger steps.\n",
    "    Playing around with this actually seems to show alpha of 1 gets us more or less straight to the minimum\n",
    "    Going too big causes issues. At alpha = 2 this bounces about and diverges\n",
    "    at alpha = 1.5 it seems to converge, but bounces about on the way"
   ]
  },
  {
   "cell_type": "code",
   "execution_count": null,
   "metadata": {
    "colab": {},
    "colab_type": "code",
    "id": "8gSNF2tBxtfC"
   },
   "outputs": [],
   "source": []
  }
 ],
 "metadata": {
  "colab": {
   "collapsed_sections": [],
   "name": "Linear Regression - Workbook.ipynb",
   "provenance": [],
   "version": "0.3.2"
  },
  "kernelspec": {
   "display_name": "Python 3",
   "language": "python",
   "name": "python3"
  },
  "language_info": {
   "codemirror_mode": {
    "name": "ipython",
    "version": 3
   },
   "file_extension": ".py",
   "mimetype": "text/x-python",
   "name": "python",
   "nbconvert_exporter": "python",
   "pygments_lexer": "ipython3",
   "version": "3.6.6"
  }
 },
 "nbformat": 4,
 "nbformat_minor": 1
}
