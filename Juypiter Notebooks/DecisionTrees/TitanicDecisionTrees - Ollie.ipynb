{
 "cells": [
  {
   "cell_type": "code",
   "execution_count": 1,
   "metadata": {},
   "outputs": [],
   "source": [
    "def prep_data(data):\n",
    "    from sklearn import preprocessing\n",
    "    # Cabin more useful as leter and number - Some have multiple cabins, just take the first one\n",
    "    data = data.drop('id',axis=1)\n",
    "    data = data.drop('name',axis=1) # saw that this was being used in some trees, but i dont think it makes sense to use, probably causing overfitting\n",
    "    data = data.drop('ticket',axis=1) # saw that this was being used in some trees, but i dont think it makes sense to use, probably causing overfitting\n",
    "    data['cabin'] = data['cabin'].fillna('')\n",
    "    data['cabin_letter'] = data['cabin'].str.slice(0,1)\n",
    "    data['cabin_number'] = pd.to_numeric( data['cabin'].str.slice(1,3) ) # did bit of a naughty change on csv for this\n",
    "    data = data.drop('cabin',axis=1)\n",
    "    le = preprocessing.LabelEncoder()\n",
    "    for column_name in data.columns:\n",
    "        if data[column_name].dtype == object:\n",
    "            print(\"Converting %s from %s\" % (column_name, data[column_name].dtype))\n",
    "            data[column_name] = le.fit_transform(data[column_name].fillna(''))\n",
    "        else:\n",
    "            data[column_name] = data[column_name].fillna(0)\n",
    "    y = data.pop('survived')\n",
    "    X = data\n",
    "    \n",
    "    feature_names = data.columns\n",
    "    number_of_features = len(data.columns)\n",
    "    X_train, X_test, y_train, y_test = train_test_split(X,y)\n",
    "    return feature_names, number_of_features, X_train, X_test, y_train, y_test\n",
    "    \n"
   ]
  },
  {
   "cell_type": "code",
   "execution_count": 2,
   "metadata": {},
   "outputs": [
    {
     "name": "stderr",
     "output_type": "stream",
     "text": [
      "C:\\Users\\oliver\\Anaconda3\\envs\\Titanic_Environment\\lib\\site-packages\\sklearn\\ensemble\\weight_boosting.py:29: DeprecationWarning: numpy.core.umath_tests is an internal NumPy module and should not be imported. It will be removed in a future NumPy release.\n",
      "  from numpy.core.umath_tests import inner1d\n"
     ]
    }
   ],
   "source": [
    "from sklearn.ensemble import RandomForestClassifier\n",
    "from sklearn.tree import DecisionTreeClassifier\n",
    "from sklearn.tree import export_graphviz\n",
    "from sklearn.model_selection import train_test_split\n",
    "from sklearn.model_selection import RandomizedSearchCV\n",
    "from sklearn.model_selection import GridSearchCV\n",
    "from os import system\n",
    "import numpy as np\n",
    "import pandas as pd"
   ]
  },
  {
   "cell_type": "code",
   "execution_count": 3,
   "metadata": {},
   "outputs": [
    {
     "name": "stdout",
     "output_type": "stream",
     "text": [
      "Converting embarked from object\n",
      "Converting sex from object\n",
      "Converting cabin_letter from object\n"
     ]
    }
   ],
   "source": [
    "data = pd.read_csv('train.csv')\n",
    "data.dtypes\n",
    "feature_names, number_of_features, X_train, X_test, y_train, y_test = prep_data(data)\n"
   ]
  },
  {
   "cell_type": "code",
   "execution_count": 4,
   "metadata": {},
   "outputs": [
    {
     "name": "stdout",
     "output_type": "stream",
     "text": [
      "Single Decision Tree Score with Max Depth 1 is 0.759825\n",
      "Single Decision Tree Score with Max Depth 2 is 0.759825\n",
      "Single Decision Tree Score with Max Depth 3 is 0.772926\n",
      "Single Decision Tree Score with Max Depth 4 is 0.764192\n",
      "Single Decision Tree Score with Max Depth 5 is 0.777293\n",
      "Single Decision Tree Score with Max Depth 6 is 0.768559\n",
      "Single Decision Tree Score with Max Depth 7 is 0.781659\n",
      "Single Decision Tree Score with Max Depth 8 is 0.781659\n",
      "Single Decision Tree Score with Max Depth 9 is 0.781659\n",
      "Single Decision Tree Score with Max Depth 10 is 0.764192\n"
     ]
    }
   ],
   "source": [
    "#Single Tree\n",
    "max_depths = [1,2,3,4,5,6,7,8,9,10]\n",
    "for i in max_depths:\n",
    "    dt_clf = DecisionTreeClassifier(max_depth=i)\n",
    "    dt_clf.fit(X_train, y_train)\n",
    "    dt_score = dt_clf.score(X_test,y_test)\n",
    "    print(\"Single Decision Tree Score with Max Depth %i is %f\" % (i , dt_score))\n",
    "    "
   ]
  },
  {
   "cell_type": "code",
   "execution_count": 5,
   "metadata": {},
   "outputs": [
    {
     "name": "stdout",
     "output_type": "stream",
     "text": [
      "Fitting 5 folds for each of 500 candidates, totalling 2500 fits\n",
      "score was\n",
      "0.74235807860262\n",
      "best parameters\n",
      "{'min_samples_split': 32, 'max_features': 'auto', 'max_depth': 7, 'criterion': 'gini'}\n"
     ]
    },
    {
     "name": "stderr",
     "output_type": "stream",
     "text": [
      "[Parallel(n_jobs=1)]: Done 2500 out of 2500 | elapsed:    6.9s finished\n"
     ]
    }
   ],
   "source": [
    "#Single Tree with HPT\n",
    "\n",
    "decision_tree_clf_random = DecisionTreeClassifier()\n",
    "#Parameters for Tuning\n",
    "criterion         = ['gini','entropy']\n",
    "max_depth         = [1,2,3,4,5,6,7,8,9,10,15,20,30,40,50,75,100]\n",
    "min_samples_split = list(range(2,250,10))\n",
    "max_features      = list(range(1,number_of_features)) + ['auto','sqrt','log2']\n",
    "\n",
    "\n",
    "decision_tree_random_cv = {\n",
    "    'criterion'        : criterion,\n",
    "    'max_depth'        : max_depth,\n",
    "    'min_samples_split': min_samples_split,\n",
    "    'max_features'     : max_features\n",
    "}\n",
    "\n",
    "random_decision_tree = RandomizedSearchCV(\n",
    "    estimator = decision_tree_clf_random,\n",
    "    param_distributions = decision_tree_random_cv,\n",
    "    n_iter = 500,\n",
    "    cv = 5,\n",
    "    verbose=1)\n",
    "random_decision_tree.fit(X_train, y_train)\n",
    "\n",
    "random_decision_tree_score = random_decision_tree.score(X_test,y_test)\n",
    "print(\"score was\")\n",
    "print(random_decision_tree_score)\n",
    "random_decision_tree_best_params = random_decision_tree.best_params_\n",
    "print(\"best parameters\")\n",
    "print(random_decision_tree_best_params)\n"
   ]
  },
  {
   "cell_type": "code",
   "execution_count": 6,
   "metadata": {},
   "outputs": [
    {
     "name": "stdout",
     "output_type": "stream",
     "text": [
      "Fitting 5 folds for each of 2240 candidates, totalling 11200 fits\n",
      "score was\n",
      "0.7816593886462883\n",
      "best parameters\n",
      "{'criterion': 'gini', 'max_depth': 7, 'max_features': 5, 'min_samples_split': 72}\n"
     ]
    },
    {
     "name": "stderr",
     "output_type": "stream",
     "text": [
      "[Parallel(n_jobs=1)]: Done 11200 out of 11200 | elapsed:   31.3s finished\n"
     ]
    }
   ],
   "source": [
    "#Single Tree with HPT\n",
    "\n",
    "decision_tree_clf_grid = DecisionTreeClassifier()\n",
    "#Parameters for Tuning\n",
    "criterion         = ['gini','entropy']\n",
    "max_depth         = [3,4,5,6,7,8,9,10]\n",
    "min_samples_split = list(range(70,90,1))\n",
    "max_features      = list(range(5,number_of_features)) + ['auto','sqrt','log2']\n",
    "\n",
    "\n",
    "decision_tree_grid_cv = {\n",
    "    'criterion'        : criterion,\n",
    "    'max_depth'        : max_depth,\n",
    "    'min_samples_split': min_samples_split,\n",
    "    'max_features'     : max_features\n",
    "}\n",
    "\n",
    "grid_decision_tree = GridSearchCV(\n",
    "    estimator = decision_tree_clf_grid,\n",
    "    param_grid = decision_tree_grid_cv,\n",
    "    cv = 5,\n",
    "    verbose=1)\n",
    "grid_decision_tree.fit(X_train, y_train)\n",
    "grid_decision_tree_score       = grid_decision_tree.score(X_test,y_test)\n",
    "print(\"score was\")\n",
    "print(grid_decision_tree_score)\n",
    "grid_decision_tree_best_params = grid_decision_tree.best_params_ \n",
    "print(\"best parameters\")\n",
    "print(grid_decision_tree_best_params)\n"
   ]
  },
  {
   "cell_type": "code",
   "execution_count": 7,
   "metadata": {},
   "outputs": [
    {
     "name": "stdout",
     "output_type": "stream",
     "text": [
      "dot -Tpng titanic_tree_best_decision_tree.dot -o titanic_tree_best_decision_tree.png\n"
     ]
    }
   ],
   "source": [
    "out_file_name = \"titanic_tree_best_decision_tree.dot\"\n",
    "out_png_file_name = \"titanic_tree_best_decision_tree.png\"\n",
    "export_graphviz(\n",
    "    grid_decision_tree.best_estimator_,\n",
    "    out_file=out_file_name,\n",
    "    feature_names=feature_names,\n",
    "    rounded=True,\n",
    "    filled=True\n",
    "    )\n",
    "\n",
    "\n",
    "#Converts dot file to PNG\n",
    "cmd_convert = 'dot -Tpng %s -o %s' % (out_file_name,out_png_file_name)\n",
    "#system(cmd_convert) # Why doesnt this work!\n",
    "#!dot -Tpng out_file_name -o out_png_file_name # Or this\n",
    "print(cmd_convert)  # Print to run manually as above doesnt work"
   ]
  },
  {
   "cell_type": "code",
   "execution_count": 8,
   "metadata": {},
   "outputs": [
    {
     "name": "stdout",
     "output_type": "stream",
     "text": [
      "Score for Random Forest classsifier with no tuning is\n",
      "0.7729257641921398\n"
     ]
    }
   ],
   "source": [
    "#RandomForest No HPT\n",
    "random_forest_clf = RandomForestClassifier()\n",
    "random_forest_clf.fit(X_train,y_train)\n",
    "\n",
    "random_forest_score = random_forest_clf.score(X_test,y_test)\n",
    "print(\"Score for Random Forest classsifier with no tuning is\")\n",
    "print(random_forest_score)"
   ]
  },
  {
   "cell_type": "code",
   "execution_count": 9,
   "metadata": {},
   "outputs": [
    {
     "name": "stdout",
     "output_type": "stream",
     "text": [
      "Fitting 5 folds for each of 500 candidates, totalling 2500 fits\n"
     ]
    },
    {
     "name": "stderr",
     "output_type": "stream",
     "text": [
      "[Parallel(n_jobs=4)]: Done  42 tasks      | elapsed:    9.9s\n",
      "[Parallel(n_jobs=4)]: Done 192 tasks      | elapsed:   47.5s\n",
      "[Parallel(n_jobs=4)]: Done 442 tasks      | elapsed:  1.8min\n",
      "[Parallel(n_jobs=4)]: Done 792 tasks      | elapsed:  3.2min\n",
      "[Parallel(n_jobs=4)]: Done 1242 tasks      | elapsed:  5.1min\n",
      "[Parallel(n_jobs=4)]: Done 1792 tasks      | elapsed:  7.3min\n",
      "[Parallel(n_jobs=4)]: Done 2442 tasks      | elapsed:  9.5min\n",
      "[Parallel(n_jobs=4)]: Done 2500 out of 2500 | elapsed:  9.8min finished\n"
     ]
    },
    {
     "data": {
      "text/plain": [
       "RandomizedSearchCV(cv=5, error_score='raise',\n",
       "          estimator=RandomForestClassifier(bootstrap=True, class_weight=None, criterion='gini',\n",
       "            max_depth=None, max_features='auto', max_leaf_nodes=None,\n",
       "            min_impurity_decrease=0.0, min_impurity_split=None,\n",
       "            min_samples_leaf=1, min_samples_split=2,\n",
       "            min_weight_fraction_leaf=0.0, n_estimators=10, n_jobs=1,\n",
       "            oob_score=False, random_state=None, verbose=0,\n",
       "            warm_start=False),\n",
       "          fit_params=None, iid=True, n_iter=500, n_jobs=4,\n",
       "          param_distributions={'criterion': ['gini', 'entropy'], 'n_estimators': [100, 110, 120, 130, 140, 150, 160, 170, 180, 190, 200, 210, 220, 230, 240, 250, 260, 270, 280, 290, 300, 310, 320, 330, 340, 350, 360, 370, 380, 390, 400, 410, 420, 430, 440, 450, 460, 470, 480, 490, 500, 510, 520, 530, 540, 550...22, 232, 242], 'max_features': [5, 6, 7, 8, 'auto', 'sqrt', 'log2'], 'bootstrap': ['True', 'False']},\n",
       "          pre_dispatch='2*n_jobs', random_state=None, refit=True,\n",
       "          return_train_score='warn', scoring=None, verbose=1)"
      ]
     },
     "execution_count": 9,
     "metadata": {},
     "output_type": "execute_result"
    }
   ],
   "source": [
    "#RamdomForest with Random HPT\n",
    "\n",
    "random_forest_clf_random = RandomForestClassifier() # Parameter Tuning here\n",
    "#Parameters for Tuning\n",
    "criterion         = ['gini','entropy']\n",
    "n_estimators      = list(range(100,1000,10))\n",
    "max_depth         = [1,2,3,4,5,6,7,8,9,10,15,20]\n",
    "min_samples_split = list(range(2,250,10))\n",
    "max_features      = list(range(5,number_of_features)) + ['auto','sqrt','log2']\n",
    "bootstrap         = ['True','False']\n",
    "\n",
    "\n",
    "random_forest_random_cv = {\n",
    "    'criterion'        : criterion,\n",
    "    'n_estimators'     : n_estimators,\n",
    "    'max_depth'        : max_depth,\n",
    "    'min_samples_split': min_samples_split,\n",
    "    'max_features'     : max_features,\n",
    "    'bootstrap'        : bootstrap\n",
    "}\n",
    "\n",
    "\n",
    "random_tuned_random_forest = RandomizedSearchCV(\n",
    "    estimator = random_forest_clf_random,\n",
    "    param_distributions = random_forest_random_cv,\n",
    "    n_iter = 500,\n",
    "    cv = 5,\n",
    "    verbose=1,\n",
    "    n_jobs=4)\n",
    "random_tuned_random_forest.fit(X_train, y_train)"
   ]
  },
  {
   "cell_type": "code",
   "execution_count": 10,
   "metadata": {},
   "outputs": [
    {
     "name": "stdout",
     "output_type": "stream",
     "text": [
      "score was\n",
      "0.7729257641921398\n",
      "best parameters\n",
      "{'n_estimators': 950, 'min_samples_split': 12, 'max_features': 'auto', 'max_depth': 10, 'criterion': 'entropy', 'bootstrap': 'False'}\n"
     ]
    }
   ],
   "source": [
    "random_random_forest_score = random_tuned_random_forest.score(X_test,y_test)\n",
    "print(\"score was\")\n",
    "print(random_random_forest_score)\n",
    "random_random_forest_best_params = random_tuned_random_forest.best_params_\n",
    "print(\"best parameters\")\n",
    "print(random_random_forest_best_params)"
   ]
  },
  {
   "cell_type": "code",
   "execution_count": 11,
   "metadata": {},
   "outputs": [
    {
     "name": "stdout",
     "output_type": "stream",
     "text": [
      "Fitting 5 folds for each of 3600 candidates, totalling 18000 fits\n"
     ]
    },
    {
     "name": "stderr",
     "output_type": "stream",
     "text": [
      "[Parallel(n_jobs=4)]: Done  42 tasks      | elapsed:    7.0s\n",
      "[Parallel(n_jobs=4)]: Done 192 tasks      | elapsed:   24.5s\n",
      "[Parallel(n_jobs=4)]: Done 442 tasks      | elapsed:   53.6s\n",
      "[Parallel(n_jobs=4)]: Done 792 tasks      | elapsed:  1.5min\n",
      "[Parallel(n_jobs=4)]: Done 1242 tasks      | elapsed:  2.4min\n",
      "[Parallel(n_jobs=4)]: Done 1792 tasks      | elapsed:  3.4min\n",
      "[Parallel(n_jobs=4)]: Done 2442 tasks      | elapsed:  4.7min\n",
      "[Parallel(n_jobs=4)]: Done 3192 tasks      | elapsed:  6.1min\n",
      "[Parallel(n_jobs=4)]: Done 4042 tasks      | elapsed:  7.8min\n",
      "[Parallel(n_jobs=4)]: Done 4992 tasks      | elapsed:  9.6min\n",
      "[Parallel(n_jobs=4)]: Done 6042 tasks      | elapsed: 11.6min\n",
      "[Parallel(n_jobs=4)]: Done 7192 tasks      | elapsed: 13.8min\n",
      "[Parallel(n_jobs=4)]: Done 8442 tasks      | elapsed: 16.2min\n",
      "[Parallel(n_jobs=4)]: Done 9792 tasks      | elapsed: 18.7min\n",
      "[Parallel(n_jobs=4)]: Done 11242 tasks      | elapsed: 21.5min\n",
      "[Parallel(n_jobs=4)]: Done 12792 tasks      | elapsed: 24.4min\n",
      "[Parallel(n_jobs=4)]: Done 14442 tasks      | elapsed: 27.6min\n",
      "[Parallel(n_jobs=4)]: Done 16192 tasks      | elapsed: 31.0min\n",
      "[Parallel(n_jobs=4)]: Done 18000 out of 18000 | elapsed: 34.5min finished\n"
     ]
    },
    {
     "data": {
      "text/plain": [
       "GridSearchCV(cv=5, error_score='raise',\n",
       "       estimator=RandomForestClassifier(bootstrap=True, class_weight=None, criterion='gini',\n",
       "            max_depth=None, max_features='auto', max_leaf_nodes=None,\n",
       "            min_impurity_decrease=0.0, min_impurity_split=None,\n",
       "            min_samples_leaf=1, min_samples_split=2,\n",
       "            min_weight_fraction_leaf=0.0, n_estimators=10, n_jobs=1,\n",
       "            oob_score=False, random_state=None, verbose=0,\n",
       "            warm_start=False),\n",
       "       fit_params=None, iid=True, n_jobs=4,\n",
       "       param_grid={'criterion': ['gini'], 'n_estimators': [150, 160, 170, 180, 190, 200, 210, 220, 230, 240, 250, 260, 270, 280, 290], 'max_depth': [10, 11, 12, 13, 14, 15, 16, 17, 18, 19], 'min_samples_split': [2, 4, 6, 8, 10, 12, 14, 16, 18, 20, 22, 24], 'max_features': [9], 'bootstrap': ['True', 'False']},\n",
       "       pre_dispatch='2*n_jobs', refit=True, return_train_score='warn',\n",
       "       scoring=None, verbose=1)"
      ]
     },
     "execution_count": 11,
     "metadata": {},
     "output_type": "execute_result"
    }
   ],
   "source": [
    "#RandomForest with Grid HPT\n",
    "\n",
    "random_forest_clf_grid = RandomForestClassifier() # Parameter Tuning here\n",
    "#Parameters for Tuning\n",
    "criterion         = ['gini']\n",
    "n_estimators      = list(range(150,300,10))\n",
    "max_depth         = list(range(10,20,1))\n",
    "min_samples_split = list(range(2,25,2))\n",
    "max_features      = [number_of_features] #list(range(5,10)) + ['auto','sqrt','log2']\n",
    "bootstrap         = ['True','False']\n",
    "\n",
    "\n",
    "random_forest_grid_cv = {\n",
    "    'criterion'        : criterion,\n",
    "    'n_estimators'     : n_estimators,\n",
    "    'max_depth'        : max_depth,\n",
    "    'min_samples_split': min_samples_split,\n",
    "    'max_features'     : max_features,\n",
    "    'bootstrap'        : bootstrap\n",
    "}\n",
    "\n",
    "\n",
    "grid_tuned_random_forest = GridSearchCV(\n",
    "    estimator = random_forest_clf_grid,\n",
    "    param_grid = random_forest_grid_cv,\n",
    "    cv = 5,\n",
    "    verbose=1,\n",
    "    n_jobs =4)\n",
    "grid_tuned_random_forest.fit(X_train, y_train)"
   ]
  },
  {
   "cell_type": "code",
   "execution_count": 12,
   "metadata": {},
   "outputs": [
    {
     "name": "stdout",
     "output_type": "stream",
     "text": [
      "dot -Tpng titanic_tree_best_random_forest_1.dot -o titanic_tree_best_random_forest_1.png\n",
      "dot -Tpng titanic_tree_best_random_forest_10.dot -o titanic_tree_best_random_forest_10.png\n",
      "dot -Tpng titanic_tree_best_random_forest_20.dot -o titanic_tree_best_random_forest_20.png\n"
     ]
    }
   ],
   "source": [
    "\n",
    "best_estimator = grid_tuned_random_forest.best_estimator_ \n",
    "\n",
    "for i in [1,10,20]:\n",
    "    estimator = best_estimator.estimators_[i]\n",
    "    out_file_name = (\"titanic_tree_best_random_forest_%i.dot\" % i)\n",
    "    out_png_file_name = (\"titanic_tree_best_random_forest_%i.png\" % i)\n",
    "    export_graphviz(\n",
    "        estimator,\n",
    "        out_file=out_file_name,\n",
    "        feature_names=feature_names,\n",
    "        rounded=True,\n",
    "        filled=True\n",
    "    )\n",
    "    #Converts dot file to PNG\n",
    "    cmd_convert = 'dot -Tpng %s -o %s' % (out_file_name,out_png_file_name)\n",
    "#    system(cmd_convert) # Why doesnt this work!\n",
    "#    !dot -Tpng out_file_name -o out_png_file_name # Or this\n",
    "    print(cmd_convert)  # Print to run manually as above doesnt work"
   ]
  },
  {
   "cell_type": "code",
   "execution_count": 13,
   "metadata": {},
   "outputs": [
    {
     "name": "stdout",
     "output_type": "stream",
     "text": [
      "score was\n",
      "0.8078602620087336\n",
      "best parameters\n",
      "{'bootstrap': 'True', 'criterion': 'gini', 'max_depth': 17, 'max_features': 9, 'min_samples_split': 12, 'n_estimators': 230}\n"
     ]
    }
   ],
   "source": [
    "grid_random_forest_score = grid_tuned_random_forest.score(X_test,y_test)\n",
    "print(\"score was\")\n",
    "print(grid_random_forest_score)\n",
    "grid_random_forest_best_params = grid_tuned_random_forest.best_params_\n",
    "print(\"best parameters\")\n",
    "print(grid_random_forest_best_params)"
   ]
  },
  {
   "cell_type": "code",
   "execution_count": 14,
   "metadata": {},
   "outputs": [
    {
     "name": "stdout",
     "output_type": "stream",
     "text": [
      "Scoring Metrics for the different models are\n",
      "Score for Decision Tree with No Tuning     :0.764192\n",
      "Score for Decision Tree with Random Tuning :0.742358\n",
      "Score for Decision Tree with Grid Tuning   :0.781659\n",
      "Score for Random Forest with No Tuning     :0.772926\n",
      "Score for Random Forest with Random Tuning :0.772926\n",
      "Score for Random Forest with Grid Tuning   :0.807860\n"
     ]
    }
   ],
   "source": [
    "print(\"Scoring Metrics for the different models are\")\n",
    "\n",
    "print(\"Score for Decision Tree with No Tuning     :%f\" % dt_score)\n",
    "print(\"Score for Decision Tree with Random Tuning :%f\" % random_decision_tree_score)\n",
    "print(\"Score for Decision Tree with Grid Tuning   :%f\" % grid_decision_tree_score)\n",
    "print(\"Score for Random Forest with No Tuning     :%f\" % random_forest_score)\n",
    "print(\"Score for Random Forest with Random Tuning :%f\" % random_random_forest_score)\n",
    "print(\"Score for Random Forest with Grid Tuning   :%f\" % grid_random_forest_score)"
   ]
  },
  {
   "cell_type": "markdown",
   "metadata": {},
   "source": [
    "Scoring Metrics for the different models are\n",
    "Score for Decision Tree with No Tuning     :0.764192\n",
    "Score for Decision Tree with Random Tuning :0.742358\n",
    "Score for Decision Tree with Grid Tuning   :0.781659\n",
    "Score for Random Forest with No Tuning     :0.772926\n",
    "Score for Random Forest with Random Tuning :0.772926\n",
    "Score for Random Forest with Grid Tuning   :0.807860"
   ]
  }
 ],
 "metadata": {
  "kernelspec": {
   "display_name": "Python 3",
   "language": "python",
   "name": "python3"
  },
  "language_info": {
   "codemirror_mode": {
    "name": "ipython",
    "version": 3
   },
   "file_extension": ".py",
   "mimetype": "text/x-python",
   "name": "python",
   "nbconvert_exporter": "python",
   "pygments_lexer": "ipython3",
   "version": "3.6.6"
  }
 },
 "nbformat": 4,
 "nbformat_minor": 2
}
