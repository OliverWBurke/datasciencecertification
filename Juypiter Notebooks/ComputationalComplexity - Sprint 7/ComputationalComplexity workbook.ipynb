{
 "cells": [
  {
   "cell_type": "code",
   "execution_count": null,
   "metadata": {},
   "outputs": [],
   "source": [
    "def firstElement (list):\n",
    "    \"\"\"\n",
    "    Receives a list, and returns the first element of the list. \n",
    "    Complexity is O(1), time is contant regardless of the length of the provided list\n",
    "    \"\"\"\n",
    "    return list[0]\n"
   ]
  },
  {
   "cell_type": "code",
   "execution_count": null,
   "metadata": {},
   "outputs": [],
   "source": [
    "def uniquePairsOld(list):\n",
    "    \"\"\"\n",
    "    Receives a list of integers, and returns all the unique combinations of integers\n",
    "    Complexity is O(n^2), as we loop have 2 nested loops through the list\n",
    "    \"\"\"\n",
    "    pairs = {}\n",
    "    for i in range(len(list)):\n",
    "        for j in range(i+1,len(list)):\n",
    "            pair         = (list[i],list[j])\n",
    "            reverse_pair = (list[j],list[i])\n",
    "            if pair in pairs:\n",
    "                print(str(pair) + \" already exists, dont add\")\n",
    "            elif reverse_pair in pairs:\n",
    "                print(str(pair) + \" already exists, just the other way round, dont add\")\n",
    "            else:\n",
    "                print(str(pair) + \" doesnt exist, so add it\")\n",
    "                pairs[(list[i],list[j])] = 1\n",
    "    return pairs.keys()\n",
    "        \n",
    "        "
   ]
  },
  {
   "cell_type": "code",
   "execution_count": null,
   "metadata": {},
   "outputs": [],
   "source": [
    "def uniquePairs(list):\n",
    "    \"\"\"\n",
    "    Receives a list of integers, and returns all the unique combinations of integers\n",
    "    Complexity is O(n^2), as we loop have 2 nested loops through the list\n",
    "    \"\"\"\n",
    "    pairs = {}\n",
    "    for i in range(len(list)):\n",
    "        for j in range(i+1,len(list)):\n",
    "            if list[i] < list[j] :\n",
    "                pairs[(list[i],list[j])] = 1\n",
    "            else :\n",
    "                pairs[(list[j],list[i])] = 1\n",
    "    return pairs.keys()\n",
    "        \n",
    "        "
   ]
  },
  {
   "cell_type": "code",
   "execution_count": null,
   "metadata": {},
   "outputs": [],
   "source": [
    "def containsMeaningOfLife(list):\n",
    "    \"\"\"\n",
    "    Function is provided a list, and returns true if the list contains the integer 42, or false if it doesnt\n",
    "    Complexity is O(n), as in the worst case we will need to check each element in the list\n",
    "    Function does return quicker if it finds 42, as doesnt need to carry on searching the list\n",
    "    \"\"\"\n",
    "#    does_it = False\n",
    "    for i in list:\n",
    "        if i == 42:\n",
    "#            does_it = True\n",
    "            return True\n",
    "    return False\n"
   ]
  },
  {
   "cell_type": "code",
   "execution_count": null,
   "metadata": {},
   "outputs": [],
   "source": [
    "def descendingSort(list):\n",
    "    \"\"\"\n",
    "    Function takes a list of integers, and returns a new list with the integers sorted in descending order\n",
    "    Complexity is O(n^2) as we have \n",
    "        a while loop (which could in worst case loop through n times)\n",
    "        a for loop inside the while, which loops through n times\n",
    "    \"\"\"\n",
    "    list_to_sort = list\n",
    "    swaps = 1\n",
    "    while swaps != 0:\n",
    "        swaps = 0\n",
    "        for i in range(len(list_to_sort)-1): \n",
    "            value = list_to_sort[i]\n",
    "            compare = list_to_sort[i+1]\n",
    "            if compare > value:\n",
    "                list_to_sort[i] = compare\n",
    "                list_to_sort[i+1] = value\n",
    "                swaps += 1\n",
    "#                print(\"after making a swap:\")\n",
    "#                print(list_to_sort)\n",
    "#        print(\"***after a full loop***\")\n",
    "#        print(list_to_sort)\n",
    "    return list_to_sort"
   ]
  },
  {
   "cell_type": "code",
   "execution_count": null,
   "metadata": {},
   "outputs": [],
   "source": [
    "def merge (list1, list2):\n",
    "    \"\"\"\n",
    "    takes 2 lists, in descending order, and returns a single list\n",
    "    \"\"\"\n",
    "    merged = []\n",
    "    list1_length = len(list1)\n",
    "    list2_length = len(list2)\n",
    "    list1_stage = 0\n",
    "    list2_stage = 0\n",
    "    while list1_stage < list1_length and list2_stage < list2_length:\n",
    "        if list1[list1_stage] > list2[list2_stage]:\n",
    "            merged.append(list1[list1_stage])\n",
    "            list1_stage += 1\n",
    "        else :\n",
    "            merged.append(list2[list2_stage])\n",
    "            list2_stage += 1\n",
    "            \n",
    "    if list1_length != list1_stage:\n",
    "        for i in range(list1_stage,list1_length):\n",
    "            merged.append(list1[i])\n",
    "    else:    \n",
    "    #if list2_length != list2_stage:\n",
    "        for i in range(list2_stage,list2_length):\n",
    "            merged.append(list2[i])\n",
    "        \n",
    "    return merged"
   ]
  },
  {
   "cell_type": "code",
   "execution_count": null,
   "metadata": {},
   "outputs": [],
   "source": [
    "def mergeSort(list):\n",
    "    if len(list) <= 1:\n",
    "        single_element_list = list[:]\n",
    "        return single_element_list\n",
    "    else:\n",
    "        mid = len(list) // 2\n",
    "        beg = []\n",
    "        end = []\n",
    "        for i in range(0,mid):\n",
    "            beg.append(list[i])\n",
    "        for i in range(mid,len(list)):\n",
    "            end.append(list[i])\n",
    "        return merge(mergeSort(beg),mergeSort(end))"
   ]
  },
  {
   "cell_type": "code",
   "execution_count": null,
   "metadata": {},
   "outputs": [],
   "source": [
    "import random\n",
    "random.seed(1)\n",
    "\n",
    "\n",
    "def buildList(length):\n",
    "    list = []\n",
    "    for i in range(length):\n",
    "        list.append(random.randint(1,100))\n",
    "    return list\n",
    "\n",
    "#values = [1,10,100,1000,1000]\n",
    "#lists = []\n",
    "#for i in values:\n",
    "#    lists.append(buildList(i))\n",
    "\n",
    "\n",
    "#for i in range(len(lists)):\n",
    "#    print(firstElement(lists[i]))\n",
    "\n",
    "list = buildList(1500)\n",
    "print(list)"
   ]
  },
  {
   "cell_type": "code",
   "execution_count": null,
   "metadata": {},
   "outputs": [],
   "source": [
    "%%time\n",
    "print(\"Result of First Element\")\n",
    "print(firstElement(list))"
   ]
  },
  {
   "cell_type": "code",
   "execution_count": null,
   "metadata": {},
   "outputs": [],
   "source": [
    "%%time\n",
    "print(\"Result of uniquePairs\")\n",
    "print(uniquePairs(list))"
   ]
  },
  {
   "cell_type": "code",
   "execution_count": null,
   "metadata": {},
   "outputs": [],
   "source": [
    "%%time\n",
    "print(\"Result of Find 'Meaning of Life'\")\n",
    "print(containsMeaningOfLife(list))"
   ]
  },
  {
   "cell_type": "code",
   "execution_count": null,
   "metadata": {},
   "outputs": [],
   "source": [
    "%%time\n",
    "print(\"Result of Sorting list\")\n",
    "print(descendingSort(list))"
   ]
  },
  {
   "cell_type": "code",
   "execution_count": null,
   "metadata": {},
   "outputs": [],
   "source": [
    "%%time\n",
    "print(\"Result of Merge Sorted list\")\n",
    "print(mergeSort(list))"
   ]
  },
  {
   "cell_type": "code",
   "execution_count": null,
   "metadata": {},
   "outputs": [],
   "source": [
    "merge([10,9,6,4,2],[1000,100,5,3,1])"
   ]
  }
 ],
 "metadata": {
  "kernelspec": {
   "display_name": "Python 3",
   "language": "python",
   "name": "python3"
  },
  "language_info": {
   "codemirror_mode": {
    "name": "ipython",
    "version": 3
   },
   "file_extension": ".py",
   "mimetype": "text/x-python",
   "name": "python",
   "nbconvert_exporter": "python",
   "pygments_lexer": "ipython3",
   "version": "3.6.6"
  }
 },
 "nbformat": 4,
 "nbformat_minor": 2
}
